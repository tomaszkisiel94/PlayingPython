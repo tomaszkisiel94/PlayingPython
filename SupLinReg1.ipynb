{
 "cells": [
  {
   "cell_type": "code",
   "execution_count": 315,
   "id": "3e168144-7270-414a-bcc1-b362a36b5d95",
   "metadata": {},
   "outputs": [],
   "source": [
    "import pandas as pd\n",
    "import matplotlib.pyplot as plt\n",
    "import numpy as np\n",
    "from sklearn.linear_model import LinearRegression, Ridge, Lasso\n",
    "from sklearn.preprocessing import OneHotEncoder\n",
    "from sklearn.model_selection import train_test_split, GridSearchCV\n",
    "from sklearn.model_selection import cross_val_score, KFold\n",
    "from sklearn.metrics import confusion_matrix, classification_report"
   ]
  },
  {
   "cell_type": "code",
   "execution_count": 153,
   "id": "f4080e79-c4ad-43be-9b66-5629c7c89db3",
   "metadata": {},
   "outputs": [],
   "source": [
    "house_df = pd.read_csv(\"CSV_data/london_houses.csv\")"
   ]
  },
  {
   "cell_type": "code",
   "execution_count": 60,
   "id": "b83f5d47-7d4c-4c0f-8c6b-61f3c07a8519",
   "metadata": {},
   "outputs": [
    {
     "data": {
      "text/html": [
       "<div>\n",
       "<style scoped>\n",
       "    .dataframe tbody tr th:only-of-type {\n",
       "        vertical-align: middle;\n",
       "    }\n",
       "\n",
       "    .dataframe tbody tr th {\n",
       "        vertical-align: top;\n",
       "    }\n",
       "\n",
       "    .dataframe thead th {\n",
       "        text-align: right;\n",
       "    }\n",
       "</style>\n",
       "<table border=\"1\" class=\"dataframe\">\n",
       "  <thead>\n",
       "    <tr style=\"text-align: right;\">\n",
       "      <th></th>\n",
       "      <th>Address</th>\n",
       "      <th>Neighborhood</th>\n",
       "      <th>Bedrooms</th>\n",
       "      <th>Bathrooms</th>\n",
       "      <th>Square Meters</th>\n",
       "      <th>Building Age</th>\n",
       "      <th>Garden</th>\n",
       "      <th>Garage</th>\n",
       "      <th>Floors</th>\n",
       "      <th>Property Type</th>\n",
       "      <th>Heating Type</th>\n",
       "      <th>Balcony</th>\n",
       "      <th>Interior Style</th>\n",
       "      <th>View</th>\n",
       "      <th>Materials</th>\n",
       "      <th>Building Status</th>\n",
       "      <th>Price</th>\n",
       "    </tr>\n",
       "  </thead>\n",
       "  <tbody>\n",
       "    <tr>\n",
       "      <th>0</th>\n",
       "      <td>78 Regent Street</td>\n",
       "      <td>Notting Hill</td>\n",
       "      <td>2</td>\n",
       "      <td>3</td>\n",
       "      <td>179</td>\n",
       "      <td>72</td>\n",
       "      <td>No</td>\n",
       "      <td>No</td>\n",
       "      <td>3</td>\n",
       "      <td>Semi-Detached</td>\n",
       "      <td>Electric Heating</td>\n",
       "      <td>High-level Balcony</td>\n",
       "      <td>Industrial</td>\n",
       "      <td>Garden</td>\n",
       "      <td>Marble</td>\n",
       "      <td>Renovated</td>\n",
       "      <td>2291200</td>\n",
       "    </tr>\n",
       "    <tr>\n",
       "      <th>1</th>\n",
       "      <td>198 Oxford Street</td>\n",
       "      <td>Westminster</td>\n",
       "      <td>2</td>\n",
       "      <td>1</td>\n",
       "      <td>123</td>\n",
       "      <td>34</td>\n",
       "      <td>Yes</td>\n",
       "      <td>No</td>\n",
       "      <td>1</td>\n",
       "      <td>Apartment</td>\n",
       "      <td>Central Heating</td>\n",
       "      <td>High-level Balcony</td>\n",
       "      <td>Industrial</td>\n",
       "      <td>City</td>\n",
       "      <td>Laminate Flooring</td>\n",
       "      <td>Old</td>\n",
       "      <td>1476000</td>\n",
       "    </tr>\n",
       "    <tr>\n",
       "      <th>2</th>\n",
       "      <td>18 Regent Street</td>\n",
       "      <td>Soho</td>\n",
       "      <td>5</td>\n",
       "      <td>3</td>\n",
       "      <td>168</td>\n",
       "      <td>38</td>\n",
       "      <td>No</td>\n",
       "      <td>Yes</td>\n",
       "      <td>3</td>\n",
       "      <td>Semi-Detached</td>\n",
       "      <td>Central Heating</td>\n",
       "      <td>No Balcony</td>\n",
       "      <td>Industrial</td>\n",
       "      <td>Street</td>\n",
       "      <td>Wood</td>\n",
       "      <td>Renovated</td>\n",
       "      <td>1881600</td>\n",
       "    </tr>\n",
       "    <tr>\n",
       "      <th>3</th>\n",
       "      <td>39 Piccadilly Circus</td>\n",
       "      <td>Islington</td>\n",
       "      <td>5</td>\n",
       "      <td>1</td>\n",
       "      <td>237</td>\n",
       "      <td>53</td>\n",
       "      <td>Yes</td>\n",
       "      <td>Yes</td>\n",
       "      <td>1</td>\n",
       "      <td>Apartment</td>\n",
       "      <td>Underfloor Heating</td>\n",
       "      <td>No Balcony</td>\n",
       "      <td>Classic</td>\n",
       "      <td>Park</td>\n",
       "      <td>Granite</td>\n",
       "      <td>Renovated</td>\n",
       "      <td>1896000</td>\n",
       "    </tr>\n",
       "    <tr>\n",
       "      <th>4</th>\n",
       "      <td>116 Fleet Street</td>\n",
       "      <td>Marylebone</td>\n",
       "      <td>4</td>\n",
       "      <td>1</td>\n",
       "      <td>127</td>\n",
       "      <td>23</td>\n",
       "      <td>No</td>\n",
       "      <td>Yes</td>\n",
       "      <td>2</td>\n",
       "      <td>Semi-Detached</td>\n",
       "      <td>Central Heating</td>\n",
       "      <td>No Balcony</td>\n",
       "      <td>Modern</td>\n",
       "      <td>Park</td>\n",
       "      <td>Wood</td>\n",
       "      <td>Old</td>\n",
       "      <td>1524000</td>\n",
       "    </tr>\n",
       "  </tbody>\n",
       "</table>\n",
       "</div>"
      ],
      "text/plain": [
       "                Address  Neighborhood  Bedrooms  Bathrooms  Square Meters  \\\n",
       "0      78 Regent Street  Notting Hill         2          3            179   \n",
       "1     198 Oxford Street   Westminster         2          1            123   \n",
       "2      18 Regent Street          Soho         5          3            168   \n",
       "3  39 Piccadilly Circus     Islington         5          1            237   \n",
       "4      116 Fleet Street    Marylebone         4          1            127   \n",
       "\n",
       "   Building Age Garden Garage  Floors  Property Type        Heating Type  \\\n",
       "0            72     No     No       3  Semi-Detached    Electric Heating   \n",
       "1            34    Yes     No       1      Apartment     Central Heating   \n",
       "2            38     No    Yes       3  Semi-Detached     Central Heating   \n",
       "3            53    Yes    Yes       1      Apartment  Underfloor Heating   \n",
       "4            23     No    Yes       2  Semi-Detached     Central Heating   \n",
       "\n",
       "              Balcony Interior Style    View          Materials  \\\n",
       "0  High-level Balcony     Industrial  Garden             Marble   \n",
       "1  High-level Balcony     Industrial    City  Laminate Flooring   \n",
       "2          No Balcony     Industrial  Street               Wood   \n",
       "3          No Balcony        Classic    Park            Granite   \n",
       "4          No Balcony         Modern    Park               Wood   \n",
       "\n",
       "  Building Status    Price  \n",
       "0       Renovated  2291200  \n",
       "1             Old  1476000  \n",
       "2       Renovated  1881600  \n",
       "3       Renovated  1896000  \n",
       "4             Old  1524000  "
      ]
     },
     "execution_count": 60,
     "metadata": {},
     "output_type": "execute_result"
    }
   ],
   "source": [
    "house_df.head()"
   ]
  },
  {
   "cell_type": "code",
   "execution_count": 61,
   "id": "8483f5ab-21dc-47aa-bcce-5acea0fe5063",
   "metadata": {},
   "outputs": [
    {
     "name": "stdout",
     "output_type": "stream",
     "text": [
      "Missing data\n",
      "Address            0\n",
      "Neighborhood       0\n",
      "Bedrooms           0\n",
      "Bathrooms          0\n",
      "Square Meters      0\n",
      "Building Age       0\n",
      "Garden             0\n",
      "Garage             0\n",
      "Floors             0\n",
      "Property Type      0\n",
      "Heating Type       0\n",
      "Balcony            0\n",
      "Interior Style     0\n",
      "View               0\n",
      "Materials          0\n",
      "Building Status    0\n",
      "Price              0\n",
      "dtype: int64\n"
     ]
    }
   ],
   "source": [
    "print(\"Missing data\")\n",
    "print(house_df.isna().sum())"
   ]
  },
  {
   "cell_type": "code",
   "execution_count": 63,
   "id": "4087b987-ccfe-4adc-a4d2-620c82d0ee3f",
   "metadata": {},
   "outputs": [
    {
     "data": {
      "image/png": "[encoded data removed]",
      "text/plain": [
       "<Figure size 640x480 with 1 Axes>"
      ]
     },
     "metadata": {},
     "output_type": "display_data"
    }
   ],
   "source": [
    "house_df.plot.scatter(x=\"Square Meters\", y=\"Price\")\n",
    "plt.show()"
   ]
  },
  {
   "cell_type": "code",
   "execution_count": 79,
   "id": "b19d1aae-b6d3-4fc7-b4da-38cb22b13cf1",
   "metadata": {},
   "outputs": [
    {
     "name": "stdout",
     "output_type": "stream",
     "text": [
      "Linear regression with one variable : square meters - price\n"
     ]
    }
   ],
   "source": [
    "print(\"Linear regression with one variable : square meters - price\")\n",
    "X = house_df[\"Square Meters\"].values\n",
    "X = X.reshape(-1,1)\n",
    "y = house_df[\"Price\"].values"
   ]
  },
  {
   "cell_type": "code",
   "execution_count": 81,
   "id": "7b0a4178-23d3-42f3-b098-2e17297d76d6",
   "metadata": {},
   "outputs": [],
   "source": [
    "reg = LinearRegression()\n",
    "reg.fit(X,y)\n",
    "prediction = reg.predict(X)"
   ]
  },
  {
   "cell_type": "code",
   "execution_count": 87,
   "id": "683abe4d-54e3-4fb1-a896-ffadb898552e",
   "metadata": {},
   "outputs": [
    {
     "data": {
      "image/png": "[encoded data removed]",
      "text/plain": [
       "<Figure size 640x480 with 1 Axes>"
      ]
     },
     "metadata": {},
     "output_type": "display_data"
    }
   ],
   "source": [
    "plt.scatter(X, y, color=\"blue\")\n",
    "plt.plot(X, prediction, color=\"red\")\n",
    "plt.show()"
   ]
  },
  {
   "cell_type": "code",
   "execution_count": 99,
   "id": "66e1819e-48b9-4e72-897f-7edc3679dc8a",
   "metadata": {},
   "outputs": [
    {
     "name": "stdout",
     "output_type": "stream",
     "text": [
      "Fit score\n",
      "0.6251300307595498\n",
      "Coefficients\n",
      "[11975.60751862]\n",
      "48933.05181095633\n"
     ]
    }
   ],
   "source": [
    "print(\"Fit score\")\n",
    "print(reg.score(X,y))\n",
    "print(\"Coefficients\")\n",
    "print(reg.coef_)\n",
    "print(reg.intercept_)"
   ]
  },
  {
   "cell_type": "code",
   "execution_count": 105,
   "id": "f2ef8d41-b100-4ac6-b0ac-ea0838314893",
   "metadata": {},
   "outputs": [
    {
     "name": "stdout",
     "output_type": "stream",
     "text": [
      "Linear regression with many variables\n",
      "Analysis of unique variables\n",
      "['Renovated' 'Old' 'New']\n",
      "['Marble' 'Laminate Flooring' 'Wood' 'Granite']\n",
      "['Garden' 'City' 'Street' 'Park' 'Sea']\n",
      "['Industrial' 'Classic' 'Modern' 'Minimalist']\n",
      "['High-level Balcony' 'No Balcony' 'Low-level Balcony']\n",
      "['Electric Heating' 'Central Heating' 'Underfloor Heating' 'Gas Heating']\n",
      "['Semi-Detached' 'Apartment' 'Detached House']\n",
      "['No' 'Yes']\n",
      "['No' 'Yes']\n"
     ]
    }
   ],
   "source": [
    "print(\"Linear regression with many variables\")\n",
    "print(\"Analysis of unique variables\")\n",
    "print(house_df[\"Building Status\"].unique())\n",
    "print(house_df[\"Materials\"].unique())\n",
    "print(house_df[\"View\"].unique())\n",
    "print(house_df[\"Interior Style\"].unique())\n",
    "print(house_df[\"Balcony\"].unique())\n",
    "print(house_df[\"Heating Type\"].unique())\n",
    "print(house_df[\"Property Type\"].unique())\n",
    "print(house_df[\"Garage\"].unique())\n",
    "print(house_df[\"Garden\"].unique())"
   ]
  },
  {
   "cell_type": "code",
   "execution_count": 121,
   "id": "a4821fe1-3063-4252-83d9-65adbe8f2641",
   "metadata": {},
   "outputs": [
    {
     "name": "stdout",
     "output_type": "stream",
     "text": [
      "In order to limit the list of categorical data, the following columns are going to be neglected:\n",
      "Materials, View, Balcony, Heating Type\n",
      "\n",
      "The remaining categorical columns are going to be encoded:\n",
      "Building Status, Interior Style, Property Type, Garage, Garden\n"
     ]
    }
   ],
   "source": [
    "print(\"In order to limit the list of categorical data, the following columns are going to be neglected:\")\n",
    "print(\"Materials, View, Balcony, Heating Type\\n\")\n",
    "print(\"The remaining categorical columns are going to be encoded:\")\n",
    "print(\"Building Status, Interior Style, Property Type, Garage, Garden\")"
   ]
  },
  {
   "cell_type": "code",
   "execution_count": 155,
   "id": "f8eeb227-deb6-42e5-86c0-17f6985eb989",
   "metadata": {},
   "outputs": [
    {
     "data": {
      "text/html": [
       "<div>\n",
       "<style scoped>\n",
       "    .dataframe tbody tr th:only-of-type {\n",
       "        vertical-align: middle;\n",
       "    }\n",
       "\n",
       "    .dataframe tbody tr th {\n",
       "        vertical-align: top;\n",
       "    }\n",
       "\n",
       "    .dataframe thead th {\n",
       "        text-align: right;\n",
       "    }\n",
       "</style>\n",
       "<table border=\"1\" class=\"dataframe\">\n",
       "  <thead>\n",
       "    <tr style=\"text-align: right;\">\n",
       "      <th></th>\n",
       "      <th>Address</th>\n",
       "      <th>Neighborhood</th>\n",
       "      <th>Bedrooms</th>\n",
       "      <th>Bathrooms</th>\n",
       "      <th>Square Meters</th>\n",
       "      <th>Building Age</th>\n",
       "      <th>Floors</th>\n",
       "      <th>Price</th>\n",
       "      <th>Building Status_New</th>\n",
       "      <th>Building Status_Old</th>\n",
       "      <th>...</th>\n",
       "      <th>Interior Style_Industrial</th>\n",
       "      <th>Interior Style_Minimalist</th>\n",
       "      <th>Interior Style_Modern</th>\n",
       "      <th>Property Type_Apartment</th>\n",
       "      <th>Property Type_Detached House</th>\n",
       "      <th>Property Type_Semi-Detached</th>\n",
       "      <th>Garage_No</th>\n",
       "      <th>Garage_Yes</th>\n",
       "      <th>Garden_No</th>\n",
       "      <th>Garden_Yes</th>\n",
       "    </tr>\n",
       "  </thead>\n",
       "  <tbody>\n",
       "    <tr>\n",
       "      <th>0</th>\n",
       "      <td>78 Regent Street</td>\n",
       "      <td>Notting Hill</td>\n",
       "      <td>2</td>\n",
       "      <td>3</td>\n",
       "      <td>179</td>\n",
       "      <td>72</td>\n",
       "      <td>3</td>\n",
       "      <td>2291200</td>\n",
       "      <td>0.0</td>\n",
       "      <td>0.0</td>\n",
       "      <td>...</td>\n",
       "      <td>1.0</td>\n",
       "      <td>0.0</td>\n",
       "      <td>0.0</td>\n",
       "      <td>0.0</td>\n",
       "      <td>0.0</td>\n",
       "      <td>1.0</td>\n",
       "      <td>1.0</td>\n",
       "      <td>0.0</td>\n",
       "      <td>1.0</td>\n",
       "      <td>0.0</td>\n",
       "    </tr>\n",
       "    <tr>\n",
       "      <th>1</th>\n",
       "      <td>198 Oxford Street</td>\n",
       "      <td>Westminster</td>\n",
       "      <td>2</td>\n",
       "      <td>1</td>\n",
       "      <td>123</td>\n",
       "      <td>34</td>\n",
       "      <td>1</td>\n",
       "      <td>1476000</td>\n",
       "      <td>0.0</td>\n",
       "      <td>1.0</td>\n",
       "      <td>...</td>\n",
       "      <td>1.0</td>\n",
       "      <td>0.0</td>\n",
       "      <td>0.0</td>\n",
       "      <td>1.0</td>\n",
       "      <td>0.0</td>\n",
       "      <td>0.0</td>\n",
       "      <td>1.0</td>\n",
       "      <td>0.0</td>\n",
       "      <td>0.0</td>\n",
       "      <td>1.0</td>\n",
       "    </tr>\n",
       "    <tr>\n",
       "      <th>2</th>\n",
       "      <td>18 Regent Street</td>\n",
       "      <td>Soho</td>\n",
       "      <td>5</td>\n",
       "      <td>3</td>\n",
       "      <td>168</td>\n",
       "      <td>38</td>\n",
       "      <td>3</td>\n",
       "      <td>1881600</td>\n",
       "      <td>0.0</td>\n",
       "      <td>0.0</td>\n",
       "      <td>...</td>\n",
       "      <td>1.0</td>\n",
       "      <td>0.0</td>\n",
       "      <td>0.0</td>\n",
       "      <td>0.0</td>\n",
       "      <td>0.0</td>\n",
       "      <td>1.0</td>\n",
       "      <td>0.0</td>\n",
       "      <td>1.0</td>\n",
       "      <td>1.0</td>\n",
       "      <td>0.0</td>\n",
       "    </tr>\n",
       "    <tr>\n",
       "      <th>3</th>\n",
       "      <td>39 Piccadilly Circus</td>\n",
       "      <td>Islington</td>\n",
       "      <td>5</td>\n",
       "      <td>1</td>\n",
       "      <td>237</td>\n",
       "      <td>53</td>\n",
       "      <td>1</td>\n",
       "      <td>1896000</td>\n",
       "      <td>0.0</td>\n",
       "      <td>0.0</td>\n",
       "      <td>...</td>\n",
       "      <td>0.0</td>\n",
       "      <td>0.0</td>\n",
       "      <td>0.0</td>\n",
       "      <td>1.0</td>\n",
       "      <td>0.0</td>\n",
       "      <td>0.0</td>\n",
       "      <td>0.0</td>\n",
       "      <td>1.0</td>\n",
       "      <td>0.0</td>\n",
       "      <td>1.0</td>\n",
       "    </tr>\n",
       "    <tr>\n",
       "      <th>4</th>\n",
       "      <td>116 Fleet Street</td>\n",
       "      <td>Marylebone</td>\n",
       "      <td>4</td>\n",
       "      <td>1</td>\n",
       "      <td>127</td>\n",
       "      <td>23</td>\n",
       "      <td>2</td>\n",
       "      <td>1524000</td>\n",
       "      <td>0.0</td>\n",
       "      <td>1.0</td>\n",
       "      <td>...</td>\n",
       "      <td>0.0</td>\n",
       "      <td>0.0</td>\n",
       "      <td>1.0</td>\n",
       "      <td>0.0</td>\n",
       "      <td>0.0</td>\n",
       "      <td>1.0</td>\n",
       "      <td>0.0</td>\n",
       "      <td>1.0</td>\n",
       "      <td>1.0</td>\n",
       "      <td>0.0</td>\n",
       "    </tr>\n",
       "  </tbody>\n",
       "</table>\n",
       "<p>5 rows × 22 columns</p>\n",
       "</div>"
      ],
      "text/plain": [
       "                Address  Neighborhood  Bedrooms  Bathrooms  Square Meters  \\\n",
       "0      78 Regent Street  Notting Hill         2          3            179   \n",
       "1     198 Oxford Street   Westminster         2          1            123   \n",
       "2      18 Regent Street          Soho         5          3            168   \n",
       "3  39 Piccadilly Circus     Islington         5          1            237   \n",
       "4      116 Fleet Street    Marylebone         4          1            127   \n",
       "\n",
       "   Building Age  Floors    Price  Building Status_New  Building Status_Old  \\\n",
       "0            72       3  2291200                  0.0                  0.0   \n",
       "1            34       1  1476000                  0.0                  1.0   \n",
       "2            38       3  1881600                  0.0                  0.0   \n",
       "3            53       1  1896000                  0.0                  0.0   \n",
       "4            23       2  1524000                  0.0                  1.0   \n",
       "\n",
       "   ...  Interior Style_Industrial  Interior Style_Minimalist  \\\n",
       "0  ...                        1.0                        0.0   \n",
       "1  ...                        1.0                        0.0   \n",
       "2  ...                        1.0                        0.0   \n",
       "3  ...                        0.0                        0.0   \n",
       "4  ...                        0.0                        0.0   \n",
       "\n",
       "   Interior Style_Modern  Property Type_Apartment  \\\n",
       "0                    0.0                      0.0   \n",
       "1                    0.0                      1.0   \n",
       "2                    0.0                      0.0   \n",
       "3                    0.0                      1.0   \n",
       "4                    1.0                      0.0   \n",
       "\n",
       "   Property Type_Detached House  Property Type_Semi-Detached  Garage_No  \\\n",
       "0                           0.0                          1.0        1.0   \n",
       "1                           0.0                          0.0        1.0   \n",
       "2                           0.0                          1.0        0.0   \n",
       "3                           0.0                          0.0        0.0   \n",
       "4                           0.0                          1.0        0.0   \n",
       "\n",
       "   Garage_Yes  Garden_No  Garden_Yes  \n",
       "0         0.0        1.0         0.0  \n",
       "1         0.0        0.0         1.0  \n",
       "2         1.0        1.0         0.0  \n",
       "3         1.0        0.0         1.0  \n",
       "4         1.0        1.0         0.0  \n",
       "\n",
       "[5 rows x 22 columns]"
      ]
     },
     "execution_count": 155,
     "metadata": {},
     "output_type": "execute_result"
    }
   ],
   "source": [
    "house_df = house_df.drop([\"Materials\", \"View\", \"Balcony\", \"Heating Type\"], axis=1)\n",
    "categorical_columns = [\"Building Status\", \"Interior Style\", \"Property Type\", \"Garage\", \"Garden\"]\n",
    "ohe = OneHotEncoder(sparse_output=False)\n",
    "encoded = ohe.fit_transform(house_df[categorical_columns])\n",
    "encoded_df = pd.DataFrame(encoded, columns=ohe.get_feature_names_out(categorical_columns))\n",
    "house_encoded = pd.concat([house_df, encoded_df], axis=1)\n",
    "house_encoded = house_encoded.drop(categorical_columns, axis=1)\n",
    "house_encoded.head()"
   ]
  },
  {
   "cell_type": "code",
   "execution_count": 157,
   "id": "3134f100-2489-4bc3-9bf1-41fda4f201b9",
   "metadata": {},
   "outputs": [
    {
     "name": "stdout",
     "output_type": "stream",
     "text": [
      "Index(['Address', 'Neighborhood', 'Bedrooms', 'Bathrooms', 'Square Meters',\n",
      "       'Building Age', 'Floors', 'Price', 'Building Status_New',\n",
      "       'Building Status_Old', 'Building Status_Renovated',\n",
      "       'Interior Style_Classic', 'Interior Style_Industrial',\n",
      "       'Interior Style_Minimalist', 'Interior Style_Modern',\n",
      "       'Property Type_Apartment', 'Property Type_Detached House',\n",
      "       'Property Type_Semi-Detached', 'Garage_No', 'Garage_Yes', 'Garden_No',\n",
      "       'Garden_Yes'],\n",
      "      dtype='object')\n"
     ]
    }
   ],
   "source": [
    "print(house_encoded.columns)"
   ]
  },
  {
   "cell_type": "code",
   "execution_count": 185,
   "id": "18b53d72-b862-4a05-90a5-8fc78b848242",
   "metadata": {},
   "outputs": [],
   "source": [
    "Xenc = house_encoded[['Bedrooms', 'Bathrooms', 'Square Meters', 'Building Age', 'Floors', 'Building Status_New',\n",
    "                      'Building Status_Old', 'Building Status_Renovated', 'Interior Style_Classic', 'Interior Style_Industrial',\n",
    "                      'Interior Style_Minimalist', 'Interior Style_Modern','Property Type_Apartment', 'Property Type_Detached House',\n",
    "                      'Property Type_Semi-Detached', 'Garage_No', 'Garage_Yes', 'Garden_No','Garden_Yes']].values\n",
    "yenc = house_encoded[['Price']]"
   ]
  },
  {
   "cell_type": "code",
   "execution_count": 303,
   "id": "2e1bbd17-1acd-4198-a851-b5cc750e5550",
   "metadata": {},
   "outputs": [],
   "source": [
    "X_train, X_test, y_train, y_test = train_test_split(Xenc, yenc, test_size=0.3, random_state=11)\n",
    "reg.fit(X_train,y_train)\n",
    "prediction = reg.predict(X_test)"
   ]
  },
  {
   "cell_type": "code",
   "execution_count": 305,
   "id": "05bc18d1-fa6e-478b-bf27-86e7b81ff5ff",
   "metadata": {},
   "outputs": [
    {
     "name": "stdout",
     "output_type": "stream",
     "text": [
      "Prediction: \n",
      "[[2365698.50133428]\n",
      " [3204458.72141329]\n",
      " [2708857.86787757]\n",
      " [ 955765.00965919]], \n",
      "Actual value        Price\n",
      "25   2898000\n",
      "464  2240000\n",
      "372  1826000\n",
      "730  1373333\n"
     ]
    }
   ],
   "source": [
    "print(\"Prediction: \\n{}, \\nActual value {}\".format(prediction[:4], y_test[:4]))"
   ]
  },
  {
   "cell_type": "code",
   "execution_count": 311,
   "id": "d20e1919-9e50-470b-9566-eda6861e3a61",
   "metadata": {},
   "outputs": [
    {
     "name": "stdout",
     "output_type": "stream",
     "text": [
      "R-squared\n",
      "0.7059694685954108\n"
     ]
    }
   ],
   "source": [
    "print(\"R-squared\")\n",
    "print(reg.score(X_test, y_test))\n",
    "#print(\"Matrix\")\n",
    "#print(confusion_matrix(y_test, prediction))\n",
    "#print(\"Report\")\n",
    "#print(classification_report(y_test, prediction))"
   ]
  },
  {
   "cell_type": "code",
   "execution_count": 255,
   "id": "c23cce12-9eaa-4822-856b-a559b54f8a63",
   "metadata": {},
   "outputs": [
    {
     "name": "stdout",
     "output_type": "stream",
     "text": [
      "10-folds cross validation of the model\n"
     ]
    }
   ],
   "source": [
    "print(\"10-folds cross validation of the model\")"
   ]
  },
  {
   "cell_type": "code",
   "execution_count": 261,
   "id": "e413c306-be65-455c-a6f8-8fad177fe58b",
   "metadata": {},
   "outputs": [],
   "source": [
    "kf = KFold(n_splits=10, shuffle=True, random_state=10)\n",
    "cv_scores = cross_val_score(reg, Xenc, yenc, cv=kf)"
   ]
  },
  {
   "cell_type": "code",
   "execution_count": 267,
   "id": "a3d871bc-00ea-450d-9f81-0578b45a158a",
   "metadata": {},
   "outputs": [
    {
     "name": "stdout",
     "output_type": "stream",
     "text": [
      "R-squared after cross validation:\n",
      "[0.73890838 0.67195772 0.7858155  0.77100436 0.73953464 0.65916243\n",
      " 0.77297406 0.72516834 0.69990051 0.73307929]\n",
      "The best score\n",
      "0.7858155003451212\n"
     ]
    }
   ],
   "source": [
    "print(\"R-squared after cross validation:\")\n",
    "print(cv_scores)\n",
    "print(\"The best score\")\n",
    "print(cv_scores.max())"
   ]
  },
  {
   "cell_type": "code",
   "execution_count": 269,
   "id": "0b75e0d2-eac6-4612-9bd1-1429cee55d31",
   "metadata": {},
   "outputs": [
    {
     "name": "stdout",
     "output_type": "stream",
     "text": [
      "Regularized regression Ridge\n"
     ]
    }
   ],
   "source": [
    "print(\"Regularized regression Ridge\")"
   ]
  },
  {
   "cell_type": "code",
   "execution_count": 273,
   "id": "f93c56b1-c740-4753-8d02-919f2650b9ba",
   "metadata": {},
   "outputs": [],
   "source": [
    "alphas = [0.1, 1, 10, 100]\n",
    "ridge_scores = []\n",
    "\n",
    "for alpha in alphas:\n",
    "    ridge = Ridge(alpha = alpha)\n",
    "    ridge.fit(X_train, y_train)\n",
    "    score = ridge.score(X_test, y_test)\n",
    "    ridge_scores.append(score)"
   ]
  },
  {
   "cell_type": "code",
   "execution_count": 275,
   "id": "3e31f906-fe85-4e05-ac65-1a2e8c75aab7",
   "metadata": {},
   "outputs": [
    {
     "name": "stdout",
     "output_type": "stream",
     "text": [
      "Scores from Ridge regression\n",
      "[0.7059863666037934, 0.7061355334872617, 0.707360319344735, 0.7057418609102948]\n"
     ]
    }
   ],
   "source": [
    "print(\"Scores from Ridge regression\")\n",
    "print(ridge_scores)"
   ]
  },
  {
   "cell_type": "code",
   "execution_count": 277,
   "id": "a7c0bca8-2c36-4071-af30-17aed49ee208",
   "metadata": {},
   "outputs": [
    {
     "name": "stdout",
     "output_type": "stream",
     "text": [
      "Regularized regression Lasso\n"
     ]
    }
   ],
   "source": [
    "print(\"Regularized regression Lasso\")"
   ]
  },
  {
   "cell_type": "code",
   "execution_count": 327,
   "id": "0351c0e5-674b-490e-8f64-cdf0ddcdd126",
   "metadata": {},
   "outputs": [
    {
     "name": "stdout",
     "output_type": "stream",
     "text": [
      "Lack of convergence in Lasso model\n"
     ]
    }
   ],
   "source": [
    "# lasso = Lasso(alpha = 0.3)\n",
    "# lasso.fit(X_train, y_train)\n",
    "# score = lasso.score(X_test, y_test)\n",
    "# coef = lasso.coef_\n",
    "print(\"Lack of convergence in Lasso model\")"
   ]
  },
  {
   "cell_type": "code",
   "execution_count": 329,
   "id": "c2fccfa4-8a0c-4465-b7c1-553291dc8e57",
   "metadata": {},
   "outputs": [
    {
     "name": "stdout",
     "output_type": "stream",
     "text": [
      "Convergence found only for alpha=1.0 with score 0.7312\n"
     ]
    }
   ],
   "source": [
    "# param_grid = {\"alpha\": np.linspace(0.00001, 1, 20)}\n",
    "# lasso = Lasso()\n",
    "# lasso_cv = GridSearchCV(lasso, param_grid, cv=kf)\n",
    "# lasso_cv.fit(X_train, y_train)\n",
    "# print(\"Tuned lasso paramaters: {}\".format(lasso_cv.best_params_))\n",
    "# print(\"Tuned lasso score: {}\".format(lasso_cv.best_score_))\n",
    "print(\"Convergence found only for alpha=1.0 with score 0.7312\")"
   ]
  },
  {
   "cell_type": "code",
   "execution_count": null,
   "id": "caed144b-7eda-411e-a68f-cae5c7f46543",
   "metadata": {},
   "outputs": [],
   "source": []
  },
  {
   "cell_type": "code",
   "execution_count": null,
   "id": "bdf84223-b601-45b5-8d3d-a1cd23b222d4",
   "metadata": {},
   "outputs": [],
   "source": []
  }
 ],
 "metadata": {
  "kernelspec": {
   "display_name": "Python [conda env:base] *",
   "language": "python",
   "name": "conda-base-py"
  },
  "language_info": {
   "codemirror_mode": {
    "name": "ipython",
    "version": 3
   },
   "file_extension": ".py",
   "mimetype": "text/x-python",
   "name": "python",
   "nbconvert_exporter": "python",
   "pygments_lexer": "ipython3",
   "version": "3.11.11"
  }
 },
 "nbformat": 4,
 "nbformat_minor": 5
}
