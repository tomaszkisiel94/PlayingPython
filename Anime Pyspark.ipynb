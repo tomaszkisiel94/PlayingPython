{
 "cells": [
  {
   "cell_type": "code",
   "execution_count": 1,
   "id": "bb816e24-d3bc-4139-9efc-7b8ba86cdc7c",
   "metadata": {},
   "outputs": [],
   "source": [
    "import pandas as pd"
   ]
  },
  {
   "cell_type": "code",
   "execution_count": 2,
   "id": "2c6e974d-cfad-465e-baad-91a668eb3567",
   "metadata": {},
   "outputs": [],
   "source": [
    "import pyspark as spark"
   ]
  },
  {
   "cell_type": "code",
   "execution_count": 3,
   "id": "18ae0732-9aed-4842-87ea-4a0383460c92",
   "metadata": {},
   "outputs": [],
   "source": [
    "from pyspark import SparkContext\n",
    "from pyspark.sql import SparkSession"
   ]
  },
  {
   "cell_type": "code",
   "execution_count": 4,
   "id": "bb43e3cc-fbcf-49c0-af0c-96207e3926d8",
   "metadata": {},
   "outputs": [],
   "source": [
    "spark = SparkSession.builder.getOrCreate()"
   ]
  },
  {
   "cell_type": "code",
   "execution_count": 5,
   "id": "87fb3ba4-6e6c-4617-a175-062c6f0776df",
   "metadata": {},
   "outputs": [],
   "source": [
    "rating = spark.read.csv('CSV_data/anime/rating.csv', header='true', inferSchema='true')"
   ]
  },
  {
   "cell_type": "code",
   "execution_count": 6,
   "id": "11460638-2ccc-4cac-858f-6a2da69059ed",
   "metadata": {},
   "outputs": [
    {
     "name": "stdout",
     "output_type": "stream",
     "text": [
      "+-------+--------+------+\n",
      "|user_id|anime_id|rating|\n",
      "+-------+--------+------+\n",
      "|      1|      20|    -1|\n",
      "|      1|      24|    -1|\n",
      "|      1|      79|    -1|\n",
      "|      1|     226|    -1|\n",
      "|      1|     241|    -1|\n",
      "+-------+--------+------+\n",
      "only showing top 5 rows\n",
      "\n"
     ]
    }
   ],
   "source": [
    "rating.show(5)"
   ]
  },
  {
   "cell_type": "code",
   "execution_count": 7,
   "id": "0288e47b-88a8-473f-a722-8f4aaaa51a8c",
   "metadata": {},
   "outputs": [],
   "source": [
    "rating1 = rating.filter('rating>0')"
   ]
  },
  {
   "cell_type": "code",
   "execution_count": 8,
   "id": "3c753b9e-c8b8-404c-bca4-60e3bf9fe3a8",
   "metadata": {},
   "outputs": [
    {
     "name": "stdout",
     "output_type": "stream",
     "text": [
      "+-------+-----------------+-----------------+------------------+\n",
      "|summary|          user_id|         anime_id|            rating|\n",
      "+-------+-----------------+-----------------+------------------+\n",
      "|  count|          6337241|          6337241|           6337241|\n",
      "|   mean|36747.91443421514|8902.866382547232| 7.808496946857473|\n",
      "| stddev|21013.40308687603|8881.999647314724|1.5724960304974278|\n",
      "|    min|                1|                1|                 1|\n",
      "|    25%|            18978|             1239|                 7|\n",
      "|    50%|            36805|             6213|                 8|\n",
      "|    75%|            54873|            14075|                 9|\n",
      "|    max|            73516|            34475|                10|\n",
      "+-------+-----------------+-----------------+------------------+\n",
      "\n"
     ]
    }
   ],
   "source": [
    "rating1.summary().show()"
   ]
  },
  {
   "cell_type": "code",
   "execution_count": 9,
   "id": "37d951c9-8d41-4d0c-8f97-d76f8392625b",
   "metadata": {},
   "outputs": [
    {
     "data": {
      "text/plain": [
       "69600"
      ]
     },
     "execution_count": 9,
     "metadata": {},
     "output_type": "execute_result"
    }
   ],
   "source": [
    "rating1.select('user_id').distinct().count()"
   ]
  },
  {
   "cell_type": "code",
   "execution_count": 10,
   "id": "b579b844-21f2-48ef-a9a7-616b0438dfb2",
   "metadata": {},
   "outputs": [
    {
     "data": {
      "text/plain": [
       "9927"
      ]
     },
     "execution_count": 10,
     "metadata": {},
     "output_type": "execute_result"
    }
   ],
   "source": [
    "rating1.select('anime_id').distinct().count()"
   ]
  },
  {
   "cell_type": "raw",
   "id": "a94057d7-a7a2-44b4-8687-368fb87456af",
   "metadata": {},
   "source": [
    "#implementacja ALS"
   ]
  },
  {
   "cell_type": "code",
   "execution_count": 11,
   "id": "8f56c247-aaf3-4456-8271-efc472d89b23",
   "metadata": {},
   "outputs": [],
   "source": [
    "from pyspark.ml.evaluation import RegressionEvaluator\n",
    "from pyspark.ml.recommendation import ALS"
   ]
  },
  {
   "cell_type": "code",
   "execution_count": 12,
   "id": "3a6527c2-7bf8-4852-be49-c0a2e7f0a0dd",
   "metadata": {},
   "outputs": [],
   "source": [
    "(training, test) = rating1.randomSplit([.8, .2])"
   ]
  },
  {
   "cell_type": "code",
   "execution_count": 13,
   "id": "3992a916-3ab6-4c54-a594-be6014dc1a7c",
   "metadata": {},
   "outputs": [
    {
     "data": {
      "text/plain": [
       "9730"
      ]
     },
     "execution_count": 13,
     "metadata": {},
     "output_type": "execute_result"
    }
   ],
   "source": [
    "training.select('anime_id').distinct().count()"
   ]
  },
  {
   "cell_type": "code",
   "execution_count": 14,
   "id": "ab210ed5-214d-47c4-8b54-3d4c29255cd7",
   "metadata": {},
   "outputs": [
    {
     "data": {
      "text/plain": [
       "8501"
      ]
     },
     "execution_count": 14,
     "metadata": {},
     "output_type": "execute_result"
    }
   ],
   "source": [
    "test.select('anime_id').distinct().count()"
   ]
  },
  {
   "cell_type": "code",
   "execution_count": 15,
   "id": "3b3f6b45-7f7a-4b48-b203-d700f6b63f1e",
   "metadata": {},
   "outputs": [],
   "source": [
    "als = ALS(maxIter=10, rank=10, regParam=0.1, userCol='user_id', itemCol='anime_id', ratingCol='rating', coldStartStrategy='drop')"
   ]
  },
  {
   "cell_type": "code",
   "execution_count": 16,
   "id": "e0fa3ef1-4865-411d-97fb-781251bfa2e9",
   "metadata": {},
   "outputs": [],
   "source": [
    "model=als.fit(training)"
   ]
  },
  {
   "cell_type": "code",
   "execution_count": 17,
   "id": "53d2f440-4264-4ee4-a68d-f8994139a79e",
   "metadata": {},
   "outputs": [],
   "source": [
    "predictions = model.transform(test)"
   ]
  },
  {
   "cell_type": "code",
   "execution_count": 18,
   "id": "ddc5b419-edf5-4269-835b-fe2d77494c82",
   "metadata": {},
   "outputs": [],
   "source": [
    "evaluator = RegressionEvaluator(metricName='rmse', labelCol='rating', predictionCol='prediction')"
   ]
  },
  {
   "cell_type": "code",
   "execution_count": 19,
   "id": "9b2f2638-f91f-44f0-9429-1bc248d21bdd",
   "metadata": {},
   "outputs": [],
   "source": [
    "rmse = evaluator.evaluate(predictions)"
   ]
  },
  {
   "cell_type": "code",
   "execution_count": 20,
   "id": "2c932ed4-5116-46fc-9531-b15bbc4a9dd7",
   "metadata": {},
   "outputs": [
    {
     "name": "stdout",
     "output_type": "stream",
     "text": [
      "1.1513244161160823\n"
     ]
    }
   ],
   "source": [
    "print(rmse)"
   ]
  },
  {
   "cell_type": "code",
   "execution_count": 22,
   "id": "de3b3641-6cca-4e93-a949-0aebcca2d697",
   "metadata": {},
   "outputs": [
    {
     "name": "stdout",
     "output_type": "stream",
     "text": [
      "+-------+--------+------+----------+\n",
      "|user_id|anime_id|rating|prediction|\n",
      "+-------+--------+------+----------+\n",
      "|   1591|    2866|     6|  5.976516|\n",
      "|   4519|    5300|     9|   9.09524|\n",
      "|    392|   22097|     8| 6.1314306|\n",
      "|   7168|    5300|     8|  9.478162|\n",
      "|   7168|    8086|     8|  8.111951|\n",
      "|  10462|   17389|     8|  8.531713|\n",
      "|  11316|    1088|     9|  7.705026|\n",
      "|  18956|    8086|     4| 6.3458405|\n",
      "|   5287|     463|     8|  8.157484|\n",
      "|   7387|     471|     7|  6.978129|\n",
      "+-------+--------+------+----------+\n",
      "only showing top 10 rows\n",
      "\n"
     ]
    }
   ],
   "source": [
    "predictions.show(10)"
   ]
  },
  {
   "cell_type": "code",
   "execution_count": 23,
   "id": "ea910016-bad9-40c5-9730-ea5ef21545d3",
   "metadata": {},
   "outputs": [],
   "source": [
    "dfs_rec = model.recommendForAllUsers(5)"
   ]
  },
  {
   "cell_type": "code",
   "execution_count": 24,
   "id": "e635a1f0-204c-4ecf-9001-83c3de44937e",
   "metadata": {},
   "outputs": [
    {
     "name": "stdout",
     "output_type": "stream",
     "text": [
      "+-------+----------------------------------------------------------------------------------------------------+\n",
      "|user_id|recommendations                                                                                     |\n",
      "+-------+----------------------------------------------------------------------------------------------------+\n",
      "|1      |[{22593, 14.317052}, {9077, 11.8611965}, {1355, 11.386504}, {5006, 11.159068}, {32739, 10.70162}]   |\n",
      "|12     |[{32422, 10.573472}, {30743, 10.16369}, {28851, 10.106679}, {22615, 9.972925}, {22479, 9.972925}]   |\n",
      "|16     |[{25495, 10.272967}, {32422, 10.094208}, {30743, 9.803534}, {4640, 9.673493}, {9053, 9.4082}]       |\n",
      "|22     |[{22607, 12.207405}, {30743, 11.670695}, {32422, 11.509097}, {32894, 11.396589}, {22615, 11.359051}]|\n",
      "|26     |[{9077, 12.127537}, {3252, 11.040165}, {22593, 10.651598}, {4561, 10.238372}, {25495, 10.167312}]   |\n",
      "|27     |[{22593, 11.469573}, {30743, 10.482974}, {4208, 10.087011}, {25915, 10.065698}, {32422, 10.03127}]  |\n",
      "|28     |[{30743, 11.478623}, {22615, 11.263884}, {22479, 11.263884}, {22477, 11.263884}, {22455, 11.263884}]|\n",
      "|31     |[{22593, 10.233712}, {30743, 10.167207}, {32422, 9.758643}, {4640, 9.639669}, {22615, 9.528831}]    |\n",
      "|34     |[{22593, 12.425798}, {32422, 10.678731}, {30743, 10.566022}, {9558, 10.239999}, {8677, 10.215585}]  |\n",
      "|44     |[{32422, 9.974375}, {30743, 9.756106}, {8598, 9.377144}, {22615, 9.314679}, {22479, 9.314679}]      |\n",
      "+-------+----------------------------------------------------------------------------------------------------+\n",
      "only showing top 10 rows\n",
      "\n"
     ]
    }
   ],
   "source": [
    "dfs_rec.show(10, False)"
   ]
  },
  {
   "cell_type": "code",
   "execution_count": 25,
   "id": "39b258e2-b31e-449d-80ad-3c9c0b1c705c",
   "metadata": {},
   "outputs": [
    {
     "name": "stdout",
     "output_type": "stream",
     "text": [
      "+-------+--------+------+------------+\n",
      "|user_id|anime_id|rating|  prediction|\n",
      "+-------+--------+------+------------+\n",
      "|   6103|     413|     1|  -0.3368714|\n",
      "|   9408|    3287|     1| -0.27470964|\n",
      "|  12342|   19315|     1| -0.31005746|\n",
      "|  29075|   16610|     1| -0.21632682|\n",
      "|  38309|    1639|     1|-0.024653226|\n",
      "|  33665|   16604|     1|  -0.9676918|\n",
      "|  26759|    2245|     3| -0.43153548|\n",
      "|  24717|    5877|     1| -0.13737315|\n",
      "|  21976|    8290|     1| -0.32650787|\n",
      "|  21976|   12059|     1| -0.66957825|\n",
      "|  24323|     530|     1| -0.29456663|\n",
      "|  38816|   16608|     1| -0.25311452|\n",
      "|  71833|     413|     1| -0.21031812|\n",
      "|  65271|     413|     2| -0.21557122|\n",
      "|  67487|    1639|     1| -0.15310216|\n",
      "+-------+--------+------+------------+\n",
      "\n"
     ]
    }
   ],
   "source": [
    "predictions.filter('prediction < 0').show()"
   ]
  },
  {
   "cell_type": "code",
   "execution_count": 26,
   "id": "15564cbb-8371-4a72-b9ac-a0c19f462f3a",
   "metadata": {},
   "outputs": [],
   "source": [
    "als1 = ALS(maxIter=10, rank=10, regParam=0.1, userCol='user_id', itemCol='anime_id', ratingCol='rating', coldStartStrategy='drop', nonnegative=True)"
   ]
  },
  {
   "cell_type": "code",
   "execution_count": 27,
   "id": "66824534-a4c5-4e4f-b8ca-f4fb99aa7151",
   "metadata": {},
   "outputs": [],
   "source": [
    "model1=als1.fit(training)"
   ]
  },
  {
   "cell_type": "code",
   "execution_count": 82,
   "id": "709791bb-351d-40b4-9000-e056babe7878",
   "metadata": {
    "collapsed": true,
    "jupyter": {
     "outputs_hidden": true
    }
   },
   "outputs": [],
   "source": [
    "predictions1 = model1.transform(test)"
   ]
  },
  {
   "cell_type": "code",
   "execution_count": 83,
   "id": "38b37e0d-a420-417a-b755-cf9fc25943ed",
   "metadata": {
    "collapsed": true,
    "jupyter": {
     "outputs_hidden": true
    }
   },
   "outputs": [],
   "source": [
    "evaluator1 = RegressionEvaluator(metricName='rmse', labelCol='rating', predictionCol='prediction')"
   ]
  },
  {
   "cell_type": "code",
   "execution_count": 84,
   "id": "9d6749ef-b268-4a75-99f2-bb687917aac5",
   "metadata": {
    "collapsed": true,
    "jupyter": {
     "outputs_hidden": true
    }
   },
   "outputs": [],
   "source": [
    "rmse1 = evaluator1.evaluate(predictions1)"
   ]
  },
  {
   "cell_type": "code",
   "execution_count": 85,
   "id": "e12e970c-41ae-422e-9e57-d626b5b1922a",
   "metadata": {
    "collapsed": true,
    "jupyter": {
     "outputs_hidden": true
    }
   },
   "outputs": [
    {
     "name": "stdout",
     "output_type": "stream",
     "text": [
      "1.164056069089338\n"
     ]
    }
   ],
   "source": [
    "print(rmse1)"
   ]
  },
  {
   "cell_type": "code",
   "execution_count": 86,
   "id": "d3880947-cd05-409f-b091-10f870bec154",
   "metadata": {
    "collapsed": true,
    "jupyter": {
     "outputs_hidden": true
    }
   },
   "outputs": [
    {
     "name": "stdout",
     "output_type": "stream",
     "text": [
      "+-------+--------+------+----------+\n",
      "|user_id|anime_id|rating|prediction|\n",
      "+-------+--------+------+----------+\n",
      "+-------+--------+------+----------+\n",
      "\n"
     ]
    }
   ],
   "source": [
    "predictions1.filter('prediction < 0').show()"
   ]
  },
  {
   "cell_type": "code",
   "execution_count": 1,
   "id": "70d387ff-0872-4ef2-89f5-d10b691cc4a9",
   "metadata": {
    "collapsed": true,
    "jupyter": {
     "outputs_hidden": true
    }
   },
   "outputs": [],
   "source": [
    "# cross validation"
   ]
  },
  {
   "cell_type": "code",
   "execution_count": 28,
   "id": "ba5c4e69-6ccc-476b-93a2-e34ed9d9173b",
   "metadata": {},
   "outputs": [],
   "source": [
    "from pyspark.ml.evaluation import RegressionEvaluator\n",
    "from pyspark.ml.recommendation import ALS\n",
    "from pyspark.ml.tuning import CrossValidator, ParamGridBuilder"
   ]
  },
  {
   "cell_type": "code",
   "execution_count": 29,
   "id": "41da6624-6284-4c80-9e66-c90c59b540a2",
   "metadata": {},
   "outputs": [],
   "source": [
    "als2 = ALS(userCol='user_id', itemCol='anime_id', ratingCol='rating', coldStartStrategy='drop', nonnegative=True)"
   ]
  },
  {
   "cell_type": "code",
   "execution_count": 30,
   "id": "42197362-5b6d-47b8-82cf-ea11eb185864",
   "metadata": {},
   "outputs": [],
   "source": [
    "params = ParamGridBuilder().addGrid(als2.regParam, [0.01, 0.05, 0.1, 0.15]).addGrid(als2.rank, [10, 15, 8, 4]).build()"
   ]
  },
  {
   "cell_type": "code",
   "execution_count": 31,
   "id": "422f2c75-cb1e-4b10-a944-38db4cb1a9bc",
   "metadata": {},
   "outputs": [],
   "source": [
    "evaluator2 = RegressionEvaluator(metricName='rmse', labelCol='rating', predictionCol='prediction')"
   ]
  },
  {
   "cell_type": "code",
   "execution_count": 32,
   "id": "f5bd000c-2b96-476f-82fe-3385e6e2e9a4",
   "metadata": {},
   "outputs": [],
   "source": [
    "cv = CrossValidator(estimator=als2, estimatorParamMaps=params, evaluator=evaluator2, parallelism=1, numFolds=5)"
   ]
  },
  {
   "cell_type": "code",
   "execution_count": 33,
   "id": "f331644c-e1d4-4902-900a-1d3b171bdfcb",
   "metadata": {},
   "outputs": [],
   "source": [
    "best_model = cv.fit(rating1)"
   ]
  },
  {
   "cell_type": "code",
   "execution_count": 34,
   "id": "b2e8eca1-a919-43d1-8f9c-5c0dfb324b3f",
   "metadata": {},
   "outputs": [],
   "source": [
    "model2 = best_model.bestModel"
   ]
  },
  {
   "cell_type": "code",
   "execution_count": 35,
   "id": "a3174461-9475-4e1b-aacb-86836e1a21f7",
   "metadata": {},
   "outputs": [],
   "source": [
    "predictions2 = model2.transform(test)"
   ]
  },
  {
   "cell_type": "code",
   "execution_count": 36,
   "id": "6343595c-5258-49c6-a695-176a8afb498e",
   "metadata": {},
   "outputs": [
    {
     "name": "stdout",
     "output_type": "stream",
     "text": [
      "+-------+--------+------+----------+\n",
      "|user_id|anime_id|rating|prediction|\n",
      "+-------+--------+------+----------+\n",
      "|   1591|    2866|     6| 6.8329263|\n",
      "|   4519|    5300|     9|  9.169252|\n",
      "|    392|   22097|     8| 6.3640385|\n",
      "|   7168|    5300|     8|   9.90264|\n",
      "|   7168|    8086|     8|   8.29032|\n",
      "|  10462|   17389|     8|   8.17103|\n",
      "|  11316|    1088|     9|  7.947621|\n",
      "|  18956|    8086|     4|  6.085347|\n",
      "|   5287|     463|     8|  8.160644|\n",
      "|   7387|     471|     7| 7.3121934|\n",
      "+-------+--------+------+----------+\n",
      "only showing top 10 rows\n",
      "\n"
     ]
    }
   ],
   "source": [
    "predictions2.show(10)"
   ]
  },
  {
   "cell_type": "code",
   "execution_count": 37,
   "id": "43b9639d-eddd-4b9f-9dc7-6dd86b80b3b9",
   "metadata": {},
   "outputs": [],
   "source": [
    "rmse2 = evaluator2.evaluate(predictions2)"
   ]
  },
  {
   "cell_type": "code",
   "execution_count": 38,
   "id": "172c616c-8da1-42b7-87f2-12214dfeaeea",
   "metadata": {},
   "outputs": [
    {
     "name": "stdout",
     "output_type": "stream",
     "text": [
      "1.0169321511364044\n"
     ]
    }
   ],
   "source": [
    "print(rmse2)"
   ]
  },
  {
   "cell_type": "code",
   "execution_count": 39,
   "id": "f54015af-36ea-45b5-ab54-b8c273faa387",
   "metadata": {},
   "outputs": [
    {
     "data": {
      "text/plain": [
       "[1.1616267550546435,\n",
       " 1.1758892542533252,\n",
       " 1.1604161181941137,\n",
       " 1.1675964643190806,\n",
       " 1.1567064951098271,\n",
       " 1.1490401930605594,\n",
       " 1.1602659240358957,\n",
       " 1.1838147894142268,\n",
       " 1.167464635360896,\n",
       " 1.1592591840205169,\n",
       " 1.1709471130568594,\n",
       " 1.190884733994921,\n",
       " 1.1871858720928492,\n",
       " 1.1837747388274429,\n",
       " 1.188059802108916,\n",
       " 1.1962630984080405]"
      ]
     },
     "execution_count": 39,
     "metadata": {},
     "output_type": "execute_result"
    }
   ],
   "source": [
    "best_model.avgMetrics"
   ]
  },
  {
   "cell_type": "code",
   "execution_count": 40,
   "id": "ed10484a-dd4d-4c2b-b56f-09e0dd66b678",
   "metadata": {},
   "outputs": [
    {
     "data": {
      "text/plain": [
       "{Param(parent='CrossValidatorModel_061138ec7c7c', name='seed', doc='random seed.'): -6455438314316163725,\n",
       " Param(parent='CrossValidatorModel_061138ec7c7c', name='numFolds', doc='number of folds for cross validation'): 5,\n",
       " Param(parent='CrossValidatorModel_061138ec7c7c', name='foldCol', doc=\"Param for the column name of user specified fold number. Once this is specified, :py:class:`CrossValidator` won't do random k-fold split. Note that this column should be integer type with range [0, numFolds) and Spark will throw exception on out-of-range fold numbers.\"): '',\n",
       " Param(parent='CrossValidatorModel_061138ec7c7c', name='estimator', doc='estimator to be cross-validated'): ALS_edd35b1b77e1,\n",
       " Param(parent='CrossValidatorModel_061138ec7c7c', name='estimatorParamMaps', doc='estimator param maps'): [{Param(parent='ALS_edd35b1b77e1', name='regParam', doc='regularization parameter (>= 0).'): 0.01,\n",
       "   Param(parent='ALS_edd35b1b77e1', name='rank', doc='rank of the factorization'): 10},\n",
       "  {Param(parent='ALS_edd35b1b77e1', name='regParam', doc='regularization parameter (>= 0).'): 0.01,\n",
       "   Param(parent='ALS_edd35b1b77e1', name='rank', doc='rank of the factorization'): 15},\n",
       "  {Param(parent='ALS_edd35b1b77e1', name='regParam', doc='regularization parameter (>= 0).'): 0.01,\n",
       "   Param(parent='ALS_edd35b1b77e1', name='rank', doc='rank of the factorization'): 8},\n",
       "  {Param(parent='ALS_edd35b1b77e1', name='regParam', doc='regularization parameter (>= 0).'): 0.01,\n",
       "   Param(parent='ALS_edd35b1b77e1', name='rank', doc='rank of the factorization'): 4},\n",
       "  {Param(parent='ALS_edd35b1b77e1', name='regParam', doc='regularization parameter (>= 0).'): 0.05,\n",
       "   Param(parent='ALS_edd35b1b77e1', name='rank', doc='rank of the factorization'): 10},\n",
       "  {Param(parent='ALS_edd35b1b77e1', name='regParam', doc='regularization parameter (>= 0).'): 0.05,\n",
       "   Param(parent='ALS_edd35b1b77e1', name='rank', doc='rank of the factorization'): 15},\n",
       "  {Param(parent='ALS_edd35b1b77e1', name='regParam', doc='regularization parameter (>= 0).'): 0.05,\n",
       "   Param(parent='ALS_edd35b1b77e1', name='rank', doc='rank of the factorization'): 8},\n",
       "  {Param(parent='ALS_edd35b1b77e1', name='regParam', doc='regularization parameter (>= 0).'): 0.05,\n",
       "   Param(parent='ALS_edd35b1b77e1', name='rank', doc='rank of the factorization'): 4},\n",
       "  {Param(parent='ALS_edd35b1b77e1', name='regParam', doc='regularization parameter (>= 0).'): 0.1,\n",
       "   Param(parent='ALS_edd35b1b77e1', name='rank', doc='rank of the factorization'): 10},\n",
       "  {Param(parent='ALS_edd35b1b77e1', name='regParam', doc='regularization parameter (>= 0).'): 0.1,\n",
       "   Param(parent='ALS_edd35b1b77e1', name='rank', doc='rank of the factorization'): 15},\n",
       "  {Param(parent='ALS_edd35b1b77e1', name='regParam', doc='regularization parameter (>= 0).'): 0.1,\n",
       "   Param(parent='ALS_edd35b1b77e1', name='rank', doc='rank of the factorization'): 8},\n",
       "  {Param(parent='ALS_edd35b1b77e1', name='regParam', doc='regularization parameter (>= 0).'): 0.1,\n",
       "   Param(parent='ALS_edd35b1b77e1', name='rank', doc='rank of the factorization'): 4},\n",
       "  {Param(parent='ALS_edd35b1b77e1', name='regParam', doc='regularization parameter (>= 0).'): 0.15,\n",
       "   Param(parent='ALS_edd35b1b77e1', name='rank', doc='rank of the factorization'): 10},\n",
       "  {Param(parent='ALS_edd35b1b77e1', name='regParam', doc='regularization parameter (>= 0).'): 0.15,\n",
       "   Param(parent='ALS_edd35b1b77e1', name='rank', doc='rank of the factorization'): 15},\n",
       "  {Param(parent='ALS_edd35b1b77e1', name='regParam', doc='regularization parameter (>= 0).'): 0.15,\n",
       "   Param(parent='ALS_edd35b1b77e1', name='rank', doc='rank of the factorization'): 8},\n",
       "  {Param(parent='ALS_edd35b1b77e1', name='regParam', doc='regularization parameter (>= 0).'): 0.15,\n",
       "   Param(parent='ALS_edd35b1b77e1', name='rank', doc='rank of the factorization'): 4}],\n",
       " Param(parent='CrossValidatorModel_061138ec7c7c', name='evaluator', doc='evaluator used to select hyper-parameters that maximize the validator metric'): RegressionEvaluator_f356ae1c1d2b}"
      ]
     },
     "execution_count": 40,
     "metadata": {},
     "output_type": "execute_result"
    }
   ],
   "source": [
    "best_model.extractParamMap()"
   ]
  },
  {
   "cell_type": "code",
   "execution_count": 9,
   "id": "53656bfe-98fe-4e86-81a3-42f72d814798",
   "metadata": {},
   "outputs": [],
   "source": [
    "#recommendations analysis"
   ]
  },
  {
   "cell_type": "code",
   "execution_count": 41,
   "id": "1d5ea664-9a27-4d2a-bb2e-db3b46747771",
   "metadata": {},
   "outputs": [],
   "source": [
    "(training, test) = rating1.randomSplit([.8, .2])"
   ]
  },
  {
   "cell_type": "code",
   "execution_count": 42,
   "id": "12a2d9f2-f33f-4ffc-ac79-177c4c3e220c",
   "metadata": {},
   "outputs": [],
   "source": [
    "als3 = ALS(maxIter=10, rank=15, regParam=0.05, userCol='user_id', itemCol='anime_id', ratingCol='rating', coldStartStrategy='drop', nonnegative=True)"
   ]
  },
  {
   "cell_type": "code",
   "execution_count": 43,
   "id": "4b537084-e529-4796-a5ab-3b3f38050522",
   "metadata": {},
   "outputs": [],
   "source": [
    "evaluator3 = RegressionEvaluator(metricName='rmse', labelCol='rating', predictionCol='prediction')"
   ]
  },
  {
   "cell_type": "code",
   "execution_count": 44,
   "id": "3530b765-801a-43ff-9cad-a52b450360ad",
   "metadata": {},
   "outputs": [],
   "source": [
    "model3=als3.fit(training)"
   ]
  },
  {
   "cell_type": "code",
   "execution_count": 45,
   "id": "78b5f2ad-636b-46d4-b240-ce99604a7c02",
   "metadata": {},
   "outputs": [],
   "source": [
    "predictions3 = model3.transform(test)"
   ]
  },
  {
   "cell_type": "code",
   "execution_count": 46,
   "id": "ca7c30e2-278f-49ba-8b33-81cc9126ce89",
   "metadata": {},
   "outputs": [],
   "source": [
    "rmse3 = evaluator3.evaluate(predictions3)"
   ]
  },
  {
   "cell_type": "code",
   "execution_count": 47,
   "id": "33ed4966-7c74-40bd-b627-11b770944fab",
   "metadata": {},
   "outputs": [
    {
     "name": "stdout",
     "output_type": "stream",
     "text": [
      "1.1466460047687892\n"
     ]
    }
   ],
   "source": [
    "print(rmse3)"
   ]
  },
  {
   "cell_type": "code",
   "execution_count": 48,
   "id": "8d5b7b0b-ee55-45b1-9f86-cef222c17f5e",
   "metadata": {},
   "outputs": [
    {
     "name": "stdout",
     "output_type": "stream",
     "text": [
      "+-------+--------+------+----------+\n",
      "|user_id|anime_id|rating|prediction|\n",
      "+-------+--------+------+----------+\n",
      "|    148|     225|     7|   5.51359|\n",
      "|    148|     265|     7|  8.145976|\n",
      "|    148|     356|     6|  5.727167|\n",
      "|    148|     384|     8|  5.783889|\n",
      "|    148|    1575|     8|  8.378609|\n",
      "|    148|    2904|     9|  8.538317|\n",
      "|    148|    4224|     8| 7.3941135|\n",
      "|    148|    5114|     8|  8.998776|\n",
      "|    148|    7674|     9|  8.064965|\n",
      "|    148|    9130|     7|  7.903865|\n",
      "+-------+--------+------+----------+\n",
      "only showing top 10 rows\n",
      "\n"
     ]
    }
   ],
   "source": [
    "predictions3.show(10)"
   ]
  },
  {
   "cell_type": "code",
   "execution_count": 49,
   "id": "20039587-cfcf-4b05-9597-d8744aef7330",
   "metadata": {},
   "outputs": [],
   "source": [
    "dfs_rec3 = model3.recommendForAllUsers(3)"
   ]
  },
  {
   "cell_type": "code",
   "execution_count": 50,
   "id": "37cca8ce-9481-4f7a-9e36-21cf59605de9",
   "metadata": {},
   "outputs": [
    {
     "name": "stdout",
     "output_type": "stream",
     "text": [
      "+-------+------------------------------------------------------------+\n",
      "|user_id|recommendations                                             |\n",
      "+-------+------------------------------------------------------------+\n",
      "|1      |[{2191, 11.76089}, {17543, 11.511765}, {1833, 11.034278}]   |\n",
      "|12     |[{29722, 10.813902}, {28851, 10.714085}, {15423, 10.700117}]|\n",
      "|16     |[{3252, 10.303706}, {6383, 9.968851}, {31762, 9.802301}]    |\n",
      "|22     |[{616, 11.354921}, {15227, 10.894764}, {18391, 10.523808}]  |\n",
      "|26     |[{3252, 12.581826}, {8353, 11.412109}, {22593, 11.34485}]   |\n",
      "|27     |[{8353, 10.47472}, {30743, 10.3094225}, {3252, 10.150164}]  |\n",
      "|28     |[{8353, 11.029097}, {30743, 10.688719}, {5114, 10.364539}]  |\n",
      "|31     |[{7416, 11.014613}, {2052, 10.830119}, {30743, 10.11006}]   |\n",
      "|34     |[{22593, 12.367485}, {3252, 11.630735}, {28851, 10.810077}] |\n",
      "|44     |[{15227, 10.559225}, {22593, 10.412983}, {4639, 10.202434}] |\n",
      "+-------+------------------------------------------------------------+\n",
      "only showing top 10 rows\n",
      "\n"
     ]
    }
   ],
   "source": [
    "dfs_rec3.show(10, False)"
   ]
  },
  {
   "cell_type": "code",
   "execution_count": 51,
   "id": "6fdf9191-9083-4a1c-a6ce-fb231492eacb",
   "metadata": {},
   "outputs": [],
   "source": [
    "dfs_pandas = dfs_rec3.toPandas()"
   ]
  },
  {
   "cell_type": "code",
   "execution_count": 52,
   "id": "47d340bb-1e10-4bb6-94b6-af88de4650c9",
   "metadata": {},
   "outputs": [
    {
     "data": {
      "text/html": [
       "<div>\n",
       "<style scoped>\n",
       "    .dataframe tbody tr th:only-of-type {\n",
       "        vertical-align: middle;\n",
       "    }\n",
       "\n",
       "    .dataframe tbody tr th {\n",
       "        vertical-align: top;\n",
       "    }\n",
       "\n",
       "    .dataframe thead th {\n",
       "        text-align: right;\n",
       "    }\n",
       "</style>\n",
       "<table border=\"1\" class=\"dataframe\">\n",
       "  <thead>\n",
       "    <tr style=\"text-align: right;\">\n",
       "      <th></th>\n",
       "      <th>user_id</th>\n",
       "      <th>recommendations</th>\n",
       "    </tr>\n",
       "  </thead>\n",
       "  <tbody>\n",
       "    <tr>\n",
       "      <th>0</th>\n",
       "      <td>1</td>\n",
       "      <td>[(2191, 11.760890007019043), (17543, 11.511764...</td>\n",
       "    </tr>\n",
       "    <tr>\n",
       "      <th>1</th>\n",
       "      <td>12</td>\n",
       "      <td>[(29722, 10.813901901245117), (28851, 10.71408...</td>\n",
       "    </tr>\n",
       "    <tr>\n",
       "      <th>2</th>\n",
       "      <td>16</td>\n",
       "      <td>[(3252, 10.303706169128418), (6383, 9.96885108...</td>\n",
       "    </tr>\n",
       "    <tr>\n",
       "      <th>3</th>\n",
       "      <td>22</td>\n",
       "      <td>[(616, 11.354921340942383), (15227, 10.8947639...</td>\n",
       "    </tr>\n",
       "    <tr>\n",
       "      <th>4</th>\n",
       "      <td>26</td>\n",
       "      <td>[(3252, 12.581826210021973), (8353, 11.4121093...</td>\n",
       "    </tr>\n",
       "  </tbody>\n",
       "</table>\n",
       "</div>"
      ],
      "text/plain": [
       "   user_id                                    recommendations\n",
       "0        1  [(2191, 11.760890007019043), (17543, 11.511764...\n",
       "1       12  [(29722, 10.813901901245117), (28851, 10.71408...\n",
       "2       16  [(3252, 10.303706169128418), (6383, 9.96885108...\n",
       "3       22  [(616, 11.354921340942383), (15227, 10.8947639...\n",
       "4       26  [(3252, 12.581826210021973), (8353, 11.4121093..."
      ]
     },
     "execution_count": 52,
     "metadata": {},
     "output_type": "execute_result"
    }
   ],
   "source": [
    "dfs_pandas.head()"
   ]
  },
  {
   "cell_type": "code",
   "execution_count": 55,
   "id": "685e6976-9268-415c-9602-c8e80d6a117e",
   "metadata": {},
   "outputs": [
    {
     "name": "stdout",
     "output_type": "stream",
     "text": [
      "68831\n"
     ]
    }
   ],
   "source": [
    "print(len(dfs_pandas))"
   ]
  },
  {
   "cell_type": "code",
   "execution_count": 56,
   "id": "7b0d7dc6-1b51-40e7-bfc3-7fa92e6422b5",
   "metadata": {},
   "outputs": [],
   "source": [
    "dfs_pandas['anime1'] = 1111"
   ]
  },
  {
   "cell_type": "code",
   "execution_count": 59,
   "id": "f9050043-d212-4c72-b4e9-15ce0e53263c",
   "metadata": {},
   "outputs": [
    {
     "data": {
      "text/html": [
       "<div>\n",
       "<style scoped>\n",
       "    .dataframe tbody tr th:only-of-type {\n",
       "        vertical-align: middle;\n",
       "    }\n",
       "\n",
       "    .dataframe tbody tr th {\n",
       "        vertical-align: top;\n",
       "    }\n",
       "\n",
       "    .dataframe thead th {\n",
       "        text-align: right;\n",
       "    }\n",
       "</style>\n",
       "<table border=\"1\" class=\"dataframe\">\n",
       "  <thead>\n",
       "    <tr style=\"text-align: right;\">\n",
       "      <th></th>\n",
       "      <th>user_id</th>\n",
       "      <th>recommendations</th>\n",
       "      <th>anime1</th>\n",
       "    </tr>\n",
       "  </thead>\n",
       "  <tbody>\n",
       "    <tr>\n",
       "      <th>0</th>\n",
       "      <td>1</td>\n",
       "      <td>[(2191, 11.760890007019043), (17543, 11.511764...</td>\n",
       "      <td>1111</td>\n",
       "    </tr>\n",
       "    <tr>\n",
       "      <th>1</th>\n",
       "      <td>12</td>\n",
       "      <td>[(29722, 10.813901901245117), (28851, 10.71408...</td>\n",
       "      <td>1111</td>\n",
       "    </tr>\n",
       "    <tr>\n",
       "      <th>2</th>\n",
       "      <td>16</td>\n",
       "      <td>[(3252, 10.303706169128418), (6383, 9.96885108...</td>\n",
       "      <td>1111</td>\n",
       "    </tr>\n",
       "    <tr>\n",
       "      <th>3</th>\n",
       "      <td>22</td>\n",
       "      <td>[(616, 11.354921340942383), (15227, 10.8947639...</td>\n",
       "      <td>1111</td>\n",
       "    </tr>\n",
       "    <tr>\n",
       "      <th>4</th>\n",
       "      <td>26</td>\n",
       "      <td>[(3252, 12.581826210021973), (8353, 11.4121093...</td>\n",
       "      <td>1111</td>\n",
       "    </tr>\n",
       "    <tr>\n",
       "      <th>...</th>\n",
       "      <td>...</td>\n",
       "      <td>...</td>\n",
       "      <td>...</td>\n",
       "    </tr>\n",
       "    <tr>\n",
       "      <th>68826</th>\n",
       "      <td>73505</td>\n",
       "      <td>[(2311, 10.825966835021973), (3252, 10.5302181...</td>\n",
       "      <td>1111</td>\n",
       "    </tr>\n",
       "    <tr>\n",
       "      <th>68827</th>\n",
       "      <td>73506</td>\n",
       "      <td>[(8316, 12.561552047729492), (1966, 12.4958553...</td>\n",
       "      <td>1111</td>\n",
       "    </tr>\n",
       "    <tr>\n",
       "      <th>68828</th>\n",
       "      <td>73507</td>\n",
       "      <td>[(7416, 11.408599853515625), (22607, 10.907042...</td>\n",
       "      <td>1111</td>\n",
       "    </tr>\n",
       "    <tr>\n",
       "      <th>68829</th>\n",
       "      <td>73512</td>\n",
       "      <td>[(4928, 11.723905563354492), (15547, 11.612884...</td>\n",
       "      <td>1111</td>\n",
       "    </tr>\n",
       "    <tr>\n",
       "      <th>68830</th>\n",
       "      <td>73513</td>\n",
       "      <td>[(6281, 10.60633659362793), (33281, 10.3775177...</td>\n",
       "      <td>1111</td>\n",
       "    </tr>\n",
       "  </tbody>\n",
       "</table>\n",
       "<p>68831 rows × 3 columns</p>\n",
       "</div>"
      ],
      "text/plain": [
       "       user_id                                    recommendations  anime1\n",
       "0            1  [(2191, 11.760890007019043), (17543, 11.511764...    1111\n",
       "1           12  [(29722, 10.813901901245117), (28851, 10.71408...    1111\n",
       "2           16  [(3252, 10.303706169128418), (6383, 9.96885108...    1111\n",
       "3           22  [(616, 11.354921340942383), (15227, 10.8947639...    1111\n",
       "4           26  [(3252, 12.581826210021973), (8353, 11.4121093...    1111\n",
       "...        ...                                                ...     ...\n",
       "68826    73505  [(2311, 10.825966835021973), (3252, 10.5302181...    1111\n",
       "68827    73506  [(8316, 12.561552047729492), (1966, 12.4958553...    1111\n",
       "68828    73507  [(7416, 11.408599853515625), (22607, 10.907042...    1111\n",
       "68829    73512  [(4928, 11.723905563354492), (15547, 11.612884...    1111\n",
       "68830    73513  [(6281, 10.60633659362793), (33281, 10.3775177...    1111\n",
       "\n",
       "[68831 rows x 3 columns]"
      ]
     },
     "execution_count": 59,
     "metadata": {},
     "output_type": "execute_result"
    }
   ],
   "source": [
    "dfs_pandas"
   ]
  },
  {
   "cell_type": "code",
   "execution_count": 61,
   "id": "020ac3ff-4b19-4f71-ab2f-b0d33b36184e",
   "metadata": {},
   "outputs": [
    {
     "data": {
      "text/plain": [
       "Row(anime_id=6281, rating=10.60633659362793)"
      ]
     },
     "execution_count": 61,
     "metadata": {},
     "output_type": "execute_result"
    }
   ],
   "source": [
    "dfs_pandas['recommendations'][68830][0]"
   ]
  },
  {
   "cell_type": "code",
   "execution_count": 63,
   "id": "49a84a76-692b-476c-994c-dbe2f1f98dd7",
   "metadata": {},
   "outputs": [
    {
     "data": {
      "text/plain": [
       "6281"
      ]
     },
     "execution_count": 63,
     "metadata": {},
     "output_type": "execute_result"
    }
   ],
   "source": [
    "dfs_pandas['recommendations'][68830][0].asDict().get('anime_id')"
   ]
  },
  {
   "cell_type": "code",
   "execution_count": 64,
   "id": "c1415881-fb68-4859-8fe0-2de957e0da1f",
   "metadata": {},
   "outputs": [
    {
     "data": {
      "text/plain": [
       "11.760890007019043"
      ]
     },
     "execution_count": 64,
     "metadata": {},
     "output_type": "execute_result"
    }
   ],
   "source": [
    "dfs_pandas['recommendations'][0][0].asDict().get('rating')"
   ]
  },
  {
   "cell_type": "code",
   "execution_count": 65,
   "id": "e89dd4e4-a2ba-40c9-a95c-87f2eb59db1a",
   "metadata": {},
   "outputs": [
    {
     "name": "stdout",
     "output_type": "stream",
     "text": [
      "0\n",
      "2000\n",
      "4000\n",
      "6000\n",
      "8000\n",
      "10000\n",
      "12000\n",
      "14000\n",
      "16000\n",
      "18000\n",
      "20000\n",
      "22000\n",
      "24000\n",
      "26000\n",
      "28000\n",
      "30000\n",
      "32000\n",
      "34000\n",
      "36000\n",
      "38000\n",
      "40000\n",
      "42000\n",
      "44000\n",
      "46000\n",
      "48000\n",
      "50000\n",
      "52000\n",
      "54000\n",
      "56000\n",
      "58000\n",
      "60000\n",
      "62000\n",
      "64000\n",
      "66000\n",
      "68000\n"
     ]
    }
   ],
   "source": [
    "for i in range(len(dfs_pandas['user_id'])):\n",
    "    dfs_pandas.loc[i, 'anime'] = dfs_pandas['recommendations'][i][0].asDict().get('anime_id')\n",
    "    dfs_pandas.loc[i, 'vote'] = dfs_pandas['recommendations'][i][0].asDict().get('rating')\n",
    "    dfs_pandas.loc[i+68846, 'anime'] = dfs_pandas['recommendations'][i][1].asDict().get('anime_id')\n",
    "    dfs_pandas.loc[i+68846, 'vote'] = dfs_pandas['recommendations'][i][1].asDict().get('rating')\n",
    "    dfs_pandas.loc[i+137692, 'anime'] = dfs_pandas['recommendations'][i][2].asDict().get('anime_id')\n",
    "    dfs_pandas.loc[i+137692, 'vote'] = dfs_pandas['recommendations'][i][2].asDict().get('rating')\n",
    "    if i%2000==0:\n",
    "        print(i)\n",
    "    #dfs_pandas.loc[i+206568, 'anime'] = dfs_pandas['recommendations'][i][3].asDict().get('anime_id')\n",
    "    #dfs_pandas.loc[i+206568, 'vote'] = dfs_pandas['recommendations'][i][3].asDict().get('rating')\n",
    "    #dfs_pandas.loc[i+275424, 'anime'] = dfs_pandas['recommendations'][i][4].asDict().get('anime_id')\n",
    "    #dfs_pandas.loc[i+275424, 'vote'] = dfs_pandas['recommendations'][i][4].asDict().get('rating')"
   ]
  },
  {
   "cell_type": "code",
   "execution_count": 66,
   "id": "46682fef-c502-49a9-97ea-2365cae2353f",
   "metadata": {},
   "outputs": [
    {
     "data": {
      "text/html": [
       "<div>\n",
       "<style scoped>\n",
       "    .dataframe tbody tr th:only-of-type {\n",
       "        vertical-align: middle;\n",
       "    }\n",
       "\n",
       "    .dataframe tbody tr th {\n",
       "        vertical-align: top;\n",
       "    }\n",
       "\n",
       "    .dataframe thead th {\n",
       "        text-align: right;\n",
       "    }\n",
       "</style>\n",
       "<table border=\"1\" class=\"dataframe\">\n",
       "  <thead>\n",
       "    <tr style=\"text-align: right;\">\n",
       "      <th></th>\n",
       "      <th>user_id</th>\n",
       "      <th>recommendations</th>\n",
       "      <th>anime1</th>\n",
       "      <th>anime</th>\n",
       "      <th>vote</th>\n",
       "    </tr>\n",
       "  </thead>\n",
       "  <tbody>\n",
       "    <tr>\n",
       "      <th>0</th>\n",
       "      <td>1.0</td>\n",
       "      <td>[(2191, 11.760890007019043), (17543, 11.511764...</td>\n",
       "      <td>1111.0</td>\n",
       "      <td>2191.0</td>\n",
       "      <td>11.760890</td>\n",
       "    </tr>\n",
       "    <tr>\n",
       "      <th>1</th>\n",
       "      <td>12.0</td>\n",
       "      <td>[(29722, 10.813901901245117), (28851, 10.71408...</td>\n",
       "      <td>1111.0</td>\n",
       "      <td>29722.0</td>\n",
       "      <td>10.813902</td>\n",
       "    </tr>\n",
       "    <tr>\n",
       "      <th>2</th>\n",
       "      <td>16.0</td>\n",
       "      <td>[(3252, 10.303706169128418), (6383, 9.96885108...</td>\n",
       "      <td>1111.0</td>\n",
       "      <td>3252.0</td>\n",
       "      <td>10.303706</td>\n",
       "    </tr>\n",
       "    <tr>\n",
       "      <th>3</th>\n",
       "      <td>22.0</td>\n",
       "      <td>[(616, 11.354921340942383), (15227, 10.8947639...</td>\n",
       "      <td>1111.0</td>\n",
       "      <td>616.0</td>\n",
       "      <td>11.354921</td>\n",
       "    </tr>\n",
       "    <tr>\n",
       "      <th>4</th>\n",
       "      <td>26.0</td>\n",
       "      <td>[(3252, 12.581826210021973), (8353, 11.4121093...</td>\n",
       "      <td>1111.0</td>\n",
       "      <td>3252.0</td>\n",
       "      <td>12.581826</td>\n",
       "    </tr>\n",
       "  </tbody>\n",
       "</table>\n",
       "</div>"
      ],
      "text/plain": [
       "   user_id                                    recommendations  anime1  \\\n",
       "0      1.0  [(2191, 11.760890007019043), (17543, 11.511764...  1111.0   \n",
       "1     12.0  [(29722, 10.813901901245117), (28851, 10.71408...  1111.0   \n",
       "2     16.0  [(3252, 10.303706169128418), (6383, 9.96885108...  1111.0   \n",
       "3     22.0  [(616, 11.354921340942383), (15227, 10.8947639...  1111.0   \n",
       "4     26.0  [(3252, 12.581826210021973), (8353, 11.4121093...  1111.0   \n",
       "\n",
       "     anime       vote  \n",
       "0   2191.0  11.760890  \n",
       "1  29722.0  10.813902  \n",
       "2   3252.0  10.303706  \n",
       "3    616.0  11.354921  \n",
       "4   3252.0  12.581826  "
      ]
     },
     "execution_count": 66,
     "metadata": {},
     "output_type": "execute_result"
    }
   ],
   "source": [
    "dfs_pandas.head()"
   ]
  },
  {
   "cell_type": "code",
   "execution_count": 30,
   "id": "7db4844a-9956-40c8-91e1-9049d6cd9184",
   "metadata": {},
   "outputs": [
    {
     "name": "stdout",
     "output_type": "stream",
     "text": [
      "<class 'pandas.core.frame.DataFrame'>\n",
      "Index: 206538 entries, 0 to 206537\n",
      "Data columns (total 5 columns):\n",
      " #   Column           Non-Null Count   Dtype  \n",
      "---  ------           --------------   -----  \n",
      " 0   user_id          68846 non-null   float64\n",
      " 1   recommendations  68846 non-null   object \n",
      " 2   anime1           68846 non-null   float64\n",
      " 3   anime            206538 non-null  float64\n",
      " 4   vote             206538 non-null  float64\n",
      "dtypes: float64(4), object(1)\n",
      "memory usage: 17.5+ MB\n"
     ]
    }
   ],
   "source": [
    "dfs_pandas.info()"
   ]
  },
  {
   "cell_type": "code",
   "execution_count": 67,
   "id": "fde0e5c7-18e2-4e5c-9a60-a2112396fd03",
   "metadata": {},
   "outputs": [
    {
     "data": {
      "text/html": [
       "<div>\n",
       "<style scoped>\n",
       "    .dataframe tbody tr th:only-of-type {\n",
       "        vertical-align: middle;\n",
       "    }\n",
       "\n",
       "    .dataframe tbody tr th {\n",
       "        vertical-align: top;\n",
       "    }\n",
       "\n",
       "    .dataframe thead th {\n",
       "        text-align: right;\n",
       "    }\n",
       "</style>\n",
       "<table border=\"1\" class=\"dataframe\">\n",
       "  <thead>\n",
       "    <tr style=\"text-align: right;\">\n",
       "      <th></th>\n",
       "      <th>user_id</th>\n",
       "      <th>recommendations</th>\n",
       "      <th>anime1</th>\n",
       "      <th>anime</th>\n",
       "      <th>vote</th>\n",
       "    </tr>\n",
       "  </thead>\n",
       "  <tbody>\n",
       "    <tr>\n",
       "      <th>1</th>\n",
       "      <td>12.0</td>\n",
       "      <td>[(29722, 10.813901901245117), (28851, 10.71408...</td>\n",
       "      <td>1111.0</td>\n",
       "      <td>29722.0</td>\n",
       "      <td>10.813902</td>\n",
       "    </tr>\n",
       "  </tbody>\n",
       "</table>\n",
       "</div>"
      ],
      "text/plain": [
       "   user_id                                    recommendations  anime1  \\\n",
       "1     12.0  [(29722, 10.813901901245117), (28851, 10.71408...  1111.0   \n",
       "\n",
       "     anime       vote  \n",
       "1  29722.0  10.813902  "
      ]
     },
     "execution_count": 67,
     "metadata": {},
     "output_type": "execute_result"
    }
   ],
   "source": [
    "dfs_pandas[dfs_pandas['user_id']==12]"
   ]
  },
  {
   "cell_type": "code",
   "execution_count": 68,
   "id": "44096a40-60ef-49f9-b0b5-d924bb1470b5",
   "metadata": {},
   "outputs": [
    {
     "data": {
      "text/html": [
       "<div>\n",
       "<style scoped>\n",
       "    .dataframe tbody tr th:only-of-type {\n",
       "        vertical-align: middle;\n",
       "    }\n",
       "\n",
       "    .dataframe tbody tr th {\n",
       "        vertical-align: top;\n",
       "    }\n",
       "\n",
       "    .dataframe thead th {\n",
       "        text-align: right;\n",
       "    }\n",
       "</style>\n",
       "<table border=\"1\" class=\"dataframe\">\n",
       "  <thead>\n",
       "    <tr style=\"text-align: right;\">\n",
       "      <th></th>\n",
       "      <th>user_id</th>\n",
       "      <th>recommendations</th>\n",
       "      <th>anime1</th>\n",
       "      <th>anime</th>\n",
       "      <th>vote</th>\n",
       "    </tr>\n",
       "  </thead>\n",
       "  <tbody>\n",
       "    <tr>\n",
       "      <th>206520</th>\n",
       "      <td>NaN</td>\n",
       "      <td>NaN</td>\n",
       "      <td>NaN</td>\n",
       "      <td>8353.0</td>\n",
       "      <td>10.871617</td>\n",
       "    </tr>\n",
       "    <tr>\n",
       "      <th>137675</th>\n",
       "      <td>NaN</td>\n",
       "      <td>NaN</td>\n",
       "      <td>NaN</td>\n",
       "      <td>15547.0</td>\n",
       "      <td>11.612885</td>\n",
       "    </tr>\n",
       "    <tr>\n",
       "      <th>206521</th>\n",
       "      <td>NaN</td>\n",
       "      <td>NaN</td>\n",
       "      <td>NaN</td>\n",
       "      <td>1338.0</td>\n",
       "      <td>11.605671</td>\n",
       "    </tr>\n",
       "    <tr>\n",
       "      <th>137676</th>\n",
       "      <td>NaN</td>\n",
       "      <td>NaN</td>\n",
       "      <td>NaN</td>\n",
       "      <td>33281.0</td>\n",
       "      <td>10.377518</td>\n",
       "    </tr>\n",
       "    <tr>\n",
       "      <th>206522</th>\n",
       "      <td>NaN</td>\n",
       "      <td>NaN</td>\n",
       "      <td>NaN</td>\n",
       "      <td>3043.0</td>\n",
       "      <td>9.852045</td>\n",
       "    </tr>\n",
       "  </tbody>\n",
       "</table>\n",
       "</div>"
      ],
      "text/plain": [
       "        user_id recommendations  anime1    anime       vote\n",
       "206520      NaN             NaN     NaN   8353.0  10.871617\n",
       "137675      NaN             NaN     NaN  15547.0  11.612885\n",
       "206521      NaN             NaN     NaN   1338.0  11.605671\n",
       "137676      NaN             NaN     NaN  33281.0  10.377518\n",
       "206522      NaN             NaN     NaN   3043.0   9.852045"
      ]
     },
     "execution_count": 68,
     "metadata": {},
     "output_type": "execute_result"
    }
   ],
   "source": [
    "dfs_pandas.tail()"
   ]
  },
  {
   "cell_type": "code",
   "execution_count": 33,
   "id": "eb031206-a68f-4f8d-b6a5-65ac63d2308d",
   "metadata": {},
   "outputs": [],
   "source": [
    "dfs_pandas.to_csv('als_recommends.csv', sep=',', index=False, header=True)"
   ]
  },
  {
   "cell_type": "code",
   "execution_count": 69,
   "id": "b83ba933-7177-44f3-b041-0585a3bb3c11",
   "metadata": {},
   "outputs": [
    {
     "name": "stdout",
     "output_type": "stream",
     "text": [
      "0\n",
      "2000\n",
      "4000\n",
      "6000\n",
      "8000\n",
      "10000\n",
      "12000\n",
      "14000\n",
      "16000\n",
      "18000\n",
      "20000\n",
      "22000\n",
      "24000\n",
      "26000\n",
      "28000\n",
      "30000\n",
      "32000\n",
      "34000\n",
      "36000\n",
      "38000\n",
      "40000\n",
      "42000\n",
      "44000\n",
      "46000\n",
      "48000\n",
      "50000\n",
      "52000\n",
      "54000\n",
      "56000\n",
      "58000\n",
      "60000\n",
      "62000\n",
      "64000\n",
      "66000\n",
      "68000\n"
     ]
    },
    {
     "ename": "KeyError",
     "evalue": "68831",
     "output_type": "error",
     "traceback": [
      "\u001b[1;31m---------------------------------------------------------------------------\u001b[0m",
      "\u001b[1;31mKeyError\u001b[0m                                  Traceback (most recent call last)",
      "File \u001b[1;32mE:\\Anaconda3\\Lib\\site-packages\\pandas\\core\\indexes\\base.py:3805\u001b[0m, in \u001b[0;36mIndex.get_loc\u001b[1;34m(self, key)\u001b[0m\n\u001b[0;32m   3804\u001b[0m \u001b[38;5;28;01mtry\u001b[39;00m:\n\u001b[1;32m-> 3805\u001b[0m     \u001b[38;5;28;01mreturn\u001b[39;00m \u001b[38;5;28mself\u001b[39m\u001b[38;5;241m.\u001b[39m_engine\u001b[38;5;241m.\u001b[39mget_loc(casted_key)\n\u001b[0;32m   3806\u001b[0m \u001b[38;5;28;01mexcept\u001b[39;00m \u001b[38;5;167;01mKeyError\u001b[39;00m \u001b[38;5;28;01mas\u001b[39;00m err:\n",
      "File \u001b[1;32mindex.pyx:167\u001b[0m, in \u001b[0;36mpandas._libs.index.IndexEngine.get_loc\u001b[1;34m()\u001b[0m\n",
      "File \u001b[1;32mindex.pyx:196\u001b[0m, in \u001b[0;36mpandas._libs.index.IndexEngine.get_loc\u001b[1;34m()\u001b[0m\n",
      "File \u001b[1;32mpandas\\\\_libs\\\\hashtable_class_helper.pxi:2606\u001b[0m, in \u001b[0;36mpandas._libs.hashtable.Int64HashTable.get_item\u001b[1;34m()\u001b[0m\n",
      "File \u001b[1;32mpandas\\\\_libs\\\\hashtable_class_helper.pxi:2630\u001b[0m, in \u001b[0;36mpandas._libs.hashtable.Int64HashTable.get_item\u001b[1;34m()\u001b[0m\n",
      "\u001b[1;31mKeyError\u001b[0m: 68831",
      "\nThe above exception was the direct cause of the following exception:\n",
      "\u001b[1;31mKeyError\u001b[0m                                  Traceback (most recent call last)",
      "Cell \u001b[1;32mIn[69], line 2\u001b[0m\n\u001b[0;32m      1\u001b[0m \u001b[38;5;28;01mfor\u001b[39;00m i \u001b[38;5;129;01min\u001b[39;00m \u001b[38;5;28mrange\u001b[39m(\u001b[38;5;241m68846\u001b[39m):\n\u001b[1;32m----> 2\u001b[0m     dfs_pandas\u001b[38;5;241m.\u001b[39mloc[i\u001b[38;5;241m+\u001b[39m\u001b[38;5;241m68846\u001b[39m, \u001b[38;5;124m'\u001b[39m\u001b[38;5;124muser_id\u001b[39m\u001b[38;5;124m'\u001b[39m] \u001b[38;5;241m=\u001b[39m dfs_pandas\u001b[38;5;241m.\u001b[39mloc[i, \u001b[38;5;124m'\u001b[39m\u001b[38;5;124muser_id\u001b[39m\u001b[38;5;124m'\u001b[39m]\n\u001b[0;32m      3\u001b[0m     dfs_pandas\u001b[38;5;241m.\u001b[39mloc[i\u001b[38;5;241m+\u001b[39m\u001b[38;5;241m137692\u001b[39m, \u001b[38;5;124m'\u001b[39m\u001b[38;5;124muser_id\u001b[39m\u001b[38;5;124m'\u001b[39m] \u001b[38;5;241m=\u001b[39m dfs_pandas\u001b[38;5;241m.\u001b[39mloc[i, \u001b[38;5;124m'\u001b[39m\u001b[38;5;124muser_id\u001b[39m\u001b[38;5;124m'\u001b[39m]\n\u001b[0;32m      4\u001b[0m     \u001b[38;5;28;01mif\u001b[39;00m i\u001b[38;5;241m%\u001b[39m\u001b[38;5;241m2000\u001b[39m\u001b[38;5;241m==\u001b[39m\u001b[38;5;241m0\u001b[39m:\n",
      "File \u001b[1;32mE:\\Anaconda3\\Lib\\site-packages\\pandas\\core\\indexing.py:1183\u001b[0m, in \u001b[0;36m_LocationIndexer.__getitem__\u001b[1;34m(self, key)\u001b[0m\n\u001b[0;32m   1181\u001b[0m     key \u001b[38;5;241m=\u001b[39m \u001b[38;5;28mtuple\u001b[39m(com\u001b[38;5;241m.\u001b[39mapply_if_callable(x, \u001b[38;5;28mself\u001b[39m\u001b[38;5;241m.\u001b[39mobj) \u001b[38;5;28;01mfor\u001b[39;00m x \u001b[38;5;129;01min\u001b[39;00m key)\n\u001b[0;32m   1182\u001b[0m     \u001b[38;5;28;01mif\u001b[39;00m \u001b[38;5;28mself\u001b[39m\u001b[38;5;241m.\u001b[39m_is_scalar_access(key):\n\u001b[1;32m-> 1183\u001b[0m         \u001b[38;5;28;01mreturn\u001b[39;00m \u001b[38;5;28mself\u001b[39m\u001b[38;5;241m.\u001b[39mobj\u001b[38;5;241m.\u001b[39m_get_value(\u001b[38;5;241m*\u001b[39mkey, takeable\u001b[38;5;241m=\u001b[39m\u001b[38;5;28mself\u001b[39m\u001b[38;5;241m.\u001b[39m_takeable)\n\u001b[0;32m   1184\u001b[0m     \u001b[38;5;28;01mreturn\u001b[39;00m \u001b[38;5;28mself\u001b[39m\u001b[38;5;241m.\u001b[39m_getitem_tuple(key)\n\u001b[0;32m   1185\u001b[0m \u001b[38;5;28;01melse\u001b[39;00m:\n\u001b[0;32m   1186\u001b[0m     \u001b[38;5;66;03m# we by definition only have the 0th axis\u001b[39;00m\n",
      "File \u001b[1;32mE:\\Anaconda3\\Lib\\site-packages\\pandas\\core\\frame.py:4221\u001b[0m, in \u001b[0;36mDataFrame._get_value\u001b[1;34m(self, index, col, takeable)\u001b[0m\n\u001b[0;32m   4215\u001b[0m engine \u001b[38;5;241m=\u001b[39m \u001b[38;5;28mself\u001b[39m\u001b[38;5;241m.\u001b[39mindex\u001b[38;5;241m.\u001b[39m_engine\n\u001b[0;32m   4217\u001b[0m \u001b[38;5;28;01mif\u001b[39;00m \u001b[38;5;129;01mnot\u001b[39;00m \u001b[38;5;28misinstance\u001b[39m(\u001b[38;5;28mself\u001b[39m\u001b[38;5;241m.\u001b[39mindex, MultiIndex):\n\u001b[0;32m   4218\u001b[0m     \u001b[38;5;66;03m# CategoricalIndex: Trying to use the engine fastpath may give incorrect\u001b[39;00m\n\u001b[0;32m   4219\u001b[0m     \u001b[38;5;66;03m#  results if our categories are integers that dont match our codes\u001b[39;00m\n\u001b[0;32m   4220\u001b[0m     \u001b[38;5;66;03m# IntervalIndex: IntervalTree has no get_loc\u001b[39;00m\n\u001b[1;32m-> 4221\u001b[0m     row \u001b[38;5;241m=\u001b[39m \u001b[38;5;28mself\u001b[39m\u001b[38;5;241m.\u001b[39mindex\u001b[38;5;241m.\u001b[39mget_loc(index)\n\u001b[0;32m   4222\u001b[0m     \u001b[38;5;28;01mreturn\u001b[39;00m series\u001b[38;5;241m.\u001b[39m_values[row]\n\u001b[0;32m   4224\u001b[0m \u001b[38;5;66;03m# For MultiIndex going through engine effectively restricts us to\u001b[39;00m\n\u001b[0;32m   4225\u001b[0m \u001b[38;5;66;03m#  same-length tuples; see test_get_set_value_no_partial_indexing\u001b[39;00m\n",
      "File \u001b[1;32mE:\\Anaconda3\\Lib\\site-packages\\pandas\\core\\indexes\\base.py:3812\u001b[0m, in \u001b[0;36mIndex.get_loc\u001b[1;34m(self, key)\u001b[0m\n\u001b[0;32m   3807\u001b[0m     \u001b[38;5;28;01mif\u001b[39;00m \u001b[38;5;28misinstance\u001b[39m(casted_key, \u001b[38;5;28mslice\u001b[39m) \u001b[38;5;129;01mor\u001b[39;00m (\n\u001b[0;32m   3808\u001b[0m         \u001b[38;5;28misinstance\u001b[39m(casted_key, abc\u001b[38;5;241m.\u001b[39mIterable)\n\u001b[0;32m   3809\u001b[0m         \u001b[38;5;129;01mand\u001b[39;00m \u001b[38;5;28many\u001b[39m(\u001b[38;5;28misinstance\u001b[39m(x, \u001b[38;5;28mslice\u001b[39m) \u001b[38;5;28;01mfor\u001b[39;00m x \u001b[38;5;129;01min\u001b[39;00m casted_key)\n\u001b[0;32m   3810\u001b[0m     ):\n\u001b[0;32m   3811\u001b[0m         \u001b[38;5;28;01mraise\u001b[39;00m InvalidIndexError(key)\n\u001b[1;32m-> 3812\u001b[0m     \u001b[38;5;28;01mraise\u001b[39;00m \u001b[38;5;167;01mKeyError\u001b[39;00m(key) \u001b[38;5;28;01mfrom\u001b[39;00m\u001b[38;5;250m \u001b[39m\u001b[38;5;21;01merr\u001b[39;00m\n\u001b[0;32m   3813\u001b[0m \u001b[38;5;28;01mexcept\u001b[39;00m \u001b[38;5;167;01mTypeError\u001b[39;00m:\n\u001b[0;32m   3814\u001b[0m     \u001b[38;5;66;03m# If we have a listlike key, _check_indexing_error will raise\u001b[39;00m\n\u001b[0;32m   3815\u001b[0m     \u001b[38;5;66;03m#  InvalidIndexError. Otherwise we fall through and re-raise\u001b[39;00m\n\u001b[0;32m   3816\u001b[0m     \u001b[38;5;66;03m#  the TypeError.\u001b[39;00m\n\u001b[0;32m   3817\u001b[0m     \u001b[38;5;28mself\u001b[39m\u001b[38;5;241m.\u001b[39m_check_indexing_error(key)\n",
      "\u001b[1;31mKeyError\u001b[0m: 68831"
     ]
    }
   ],
   "source": [
    "for i in range(len(dfs_pandas['user_id'])):\n",
    "    dfs_pandas.loc[i+68846, 'user_id'] = dfs_pandas.loc[i, 'user_id']\n",
    "    dfs_pandas.loc[i+137692, 'user_id'] = dfs_pandas.loc[i, 'user_id']\n",
    "    if i%2000==0:\n",
    "        print(i)"
   ]
  },
  {
   "cell_type": "code",
   "execution_count": 70,
   "id": "5d106e18-53ec-49a9-9fe1-81e9a4dd4942",
   "metadata": {},
   "outputs": [
    {
     "data": {
      "text/html": [
       "<div>\n",
       "<style scoped>\n",
       "    .dataframe tbody tr th:only-of-type {\n",
       "        vertical-align: middle;\n",
       "    }\n",
       "\n",
       "    .dataframe tbody tr th {\n",
       "        vertical-align: top;\n",
       "    }\n",
       "\n",
       "    .dataframe thead th {\n",
       "        text-align: right;\n",
       "    }\n",
       "</style>\n",
       "<table border=\"1\" class=\"dataframe\">\n",
       "  <thead>\n",
       "    <tr style=\"text-align: right;\">\n",
       "      <th></th>\n",
       "      <th>user_id</th>\n",
       "      <th>recommendations</th>\n",
       "      <th>anime1</th>\n",
       "      <th>anime</th>\n",
       "      <th>vote</th>\n",
       "    </tr>\n",
       "  </thead>\n",
       "  <tbody>\n",
       "    <tr>\n",
       "      <th>206520</th>\n",
       "      <td>73507.0</td>\n",
       "      <td>NaN</td>\n",
       "      <td>NaN</td>\n",
       "      <td>8353.0</td>\n",
       "      <td>10.871617</td>\n",
       "    </tr>\n",
       "    <tr>\n",
       "      <th>137675</th>\n",
       "      <td>73512.0</td>\n",
       "      <td>NaN</td>\n",
       "      <td>NaN</td>\n",
       "      <td>15547.0</td>\n",
       "      <td>11.612885</td>\n",
       "    </tr>\n",
       "    <tr>\n",
       "      <th>206521</th>\n",
       "      <td>73512.0</td>\n",
       "      <td>NaN</td>\n",
       "      <td>NaN</td>\n",
       "      <td>1338.0</td>\n",
       "      <td>11.605671</td>\n",
       "    </tr>\n",
       "    <tr>\n",
       "      <th>137676</th>\n",
       "      <td>73513.0</td>\n",
       "      <td>NaN</td>\n",
       "      <td>NaN</td>\n",
       "      <td>33281.0</td>\n",
       "      <td>10.377518</td>\n",
       "    </tr>\n",
       "    <tr>\n",
       "      <th>206522</th>\n",
       "      <td>73513.0</td>\n",
       "      <td>NaN</td>\n",
       "      <td>NaN</td>\n",
       "      <td>3043.0</td>\n",
       "      <td>9.852045</td>\n",
       "    </tr>\n",
       "  </tbody>\n",
       "</table>\n",
       "</div>"
      ],
      "text/plain": [
       "        user_id recommendations  anime1    anime       vote\n",
       "206520  73507.0             NaN     NaN   8353.0  10.871617\n",
       "137675  73512.0             NaN     NaN  15547.0  11.612885\n",
       "206521  73512.0             NaN     NaN   1338.0  11.605671\n",
       "137676  73513.0             NaN     NaN  33281.0  10.377518\n",
       "206522  73513.0             NaN     NaN   3043.0   9.852045"
      ]
     },
     "execution_count": 70,
     "metadata": {},
     "output_type": "execute_result"
    }
   ],
   "source": [
    "dfs_pandas.tail()"
   ]
  },
  {
   "cell_type": "code",
   "execution_count": 71,
   "id": "b828e140-8d98-4946-853e-0c6ec8a3d097",
   "metadata": {},
   "outputs": [],
   "source": [
    "dfs_pandas.drop(['recommendations', 'anime1'], axis=1, inplace=True)"
   ]
  },
  {
   "cell_type": "code",
   "execution_count": 72,
   "id": "2e6eadf7-edf0-4909-bfdd-cd1d46d39abe",
   "metadata": {},
   "outputs": [],
   "source": [
    "dfs_pandas.to_csv('als_recommends.csv', sep=',', index=False, header=True)"
   ]
  },
  {
   "cell_type": "code",
   "execution_count": 73,
   "id": "1853dabc-3caa-4927-977c-b6b3d78320a7",
   "metadata": {},
   "outputs": [
    {
     "data": {
      "text/html": [
       "<div>\n",
       "<style scoped>\n",
       "    .dataframe tbody tr th:only-of-type {\n",
       "        vertical-align: middle;\n",
       "    }\n",
       "\n",
       "    .dataframe tbody tr th {\n",
       "        vertical-align: top;\n",
       "    }\n",
       "\n",
       "    .dataframe thead th {\n",
       "        text-align: right;\n",
       "    }\n",
       "</style>\n",
       "<table border=\"1\" class=\"dataframe\">\n",
       "  <thead>\n",
       "    <tr style=\"text-align: right;\">\n",
       "      <th></th>\n",
       "      <th>user_id</th>\n",
       "      <th>anime</th>\n",
       "      <th>vote</th>\n",
       "    </tr>\n",
       "  </thead>\n",
       "  <tbody>\n",
       "    <tr>\n",
       "      <th>1</th>\n",
       "      <td>12.0</td>\n",
       "      <td>29722.0</td>\n",
       "      <td>10.813902</td>\n",
       "    </tr>\n",
       "    <tr>\n",
       "      <th>68847</th>\n",
       "      <td>12.0</td>\n",
       "      <td>28851.0</td>\n",
       "      <td>10.714085</td>\n",
       "    </tr>\n",
       "    <tr>\n",
       "      <th>137693</th>\n",
       "      <td>12.0</td>\n",
       "      <td>15423.0</td>\n",
       "      <td>10.700117</td>\n",
       "    </tr>\n",
       "  </tbody>\n",
       "</table>\n",
       "</div>"
      ],
      "text/plain": [
       "        user_id    anime       vote\n",
       "1          12.0  29722.0  10.813902\n",
       "68847      12.0  28851.0  10.714085\n",
       "137693     12.0  15423.0  10.700117"
      ]
     },
     "execution_count": 73,
     "metadata": {},
     "output_type": "execute_result"
    }
   ],
   "source": [
    "dfs_pandas[dfs_pandas['user_id']==12]"
   ]
  },
  {
   "cell_type": "code",
   "execution_count": 74,
   "id": "e60e5124-8e11-40e3-8130-57323336fb50",
   "metadata": {},
   "outputs": [],
   "source": [
    "import matplotlib.pyplot as plt\n",
    "import seaborn as sns"
   ]
  },
  {
   "cell_type": "code",
   "execution_count": 75,
   "id": "ec61dc49-4f5d-4e3c-9c7a-f3a8c955b77f",
   "metadata": {},
   "outputs": [
    {
     "data": {
      "text/html": [
       "<div>\n",
       "<style scoped>\n",
       "    .dataframe tbody tr th:only-of-type {\n",
       "        vertical-align: middle;\n",
       "    }\n",
       "\n",
       "    .dataframe tbody tr th {\n",
       "        vertical-align: top;\n",
       "    }\n",
       "\n",
       "    .dataframe thead th {\n",
       "        text-align: right;\n",
       "    }\n",
       "</style>\n",
       "<table border=\"1\" class=\"dataframe\">\n",
       "  <thead>\n",
       "    <tr style=\"text-align: right;\">\n",
       "      <th></th>\n",
       "      <th>user_id</th>\n",
       "      <th>vote</th>\n",
       "    </tr>\n",
       "    <tr>\n",
       "      <th>anime</th>\n",
       "      <th></th>\n",
       "      <th></th>\n",
       "    </tr>\n",
       "  </thead>\n",
       "  <tbody>\n",
       "    <tr>\n",
       "      <th>8353.0</th>\n",
       "      <td>30371</td>\n",
       "      <td>30371</td>\n",
       "    </tr>\n",
       "    <tr>\n",
       "      <th>30743.0</th>\n",
       "      <td>19890</td>\n",
       "      <td>19890</td>\n",
       "    </tr>\n",
       "    <tr>\n",
       "      <th>15227.0</th>\n",
       "      <td>15524</td>\n",
       "      <td>15524</td>\n",
       "    </tr>\n",
       "    <tr>\n",
       "      <th>22593.0</th>\n",
       "      <td>10007</td>\n",
       "      <td>10007</td>\n",
       "    </tr>\n",
       "    <tr>\n",
       "      <th>29757.0</th>\n",
       "      <td>5230</td>\n",
       "      <td>5230</td>\n",
       "    </tr>\n",
       "    <tr>\n",
       "      <th>...</th>\n",
       "      <td>...</td>\n",
       "      <td>...</td>\n",
       "    </tr>\n",
       "    <tr>\n",
       "      <th>3481.0</th>\n",
       "      <td>1</td>\n",
       "      <td>1</td>\n",
       "    </tr>\n",
       "    <tr>\n",
       "      <th>3522.0</th>\n",
       "      <td>1</td>\n",
       "      <td>1</td>\n",
       "    </tr>\n",
       "    <tr>\n",
       "      <th>15417.0</th>\n",
       "      <td>1</td>\n",
       "      <td>1</td>\n",
       "    </tr>\n",
       "    <tr>\n",
       "      <th>3551.0</th>\n",
       "      <td>1</td>\n",
       "      <td>1</td>\n",
       "    </tr>\n",
       "    <tr>\n",
       "      <th>34240.0</th>\n",
       "      <td>1</td>\n",
       "      <td>1</td>\n",
       "    </tr>\n",
       "  </tbody>\n",
       "</table>\n",
       "<p>1343 rows × 2 columns</p>\n",
       "</div>"
      ],
      "text/plain": [
       "         user_id   vote\n",
       "anime                  \n",
       "8353.0     30371  30371\n",
       "30743.0    19890  19890\n",
       "15227.0    15524  15524\n",
       "22593.0    10007  10007\n",
       "29757.0     5230   5230\n",
       "...          ...    ...\n",
       "3481.0         1      1\n",
       "3522.0         1      1\n",
       "15417.0        1      1\n",
       "3551.0         1      1\n",
       "34240.0        1      1\n",
       "\n",
       "[1343 rows x 2 columns]"
      ]
     },
     "execution_count": 75,
     "metadata": {},
     "output_type": "execute_result"
    }
   ],
   "source": [
    "dfs_pandas.groupby('anime').count().sort_values(by='vote', ascending=False)"
   ]
  },
  {
   "cell_type": "code",
   "execution_count": 77,
   "id": "98b82f87-bd3f-4c49-be90-ddaf5cf8c061",
   "metadata": {},
   "outputs": [],
   "source": [
    "graph10 = dfs_pandas.groupby('anime').count().sort_values(by='vote', ascending=False)"
   ]
  },
  {
   "cell_type": "code",
   "execution_count": 78,
   "id": "8fbff980-5369-442d-b802-332066399c1c",
   "metadata": {},
   "outputs": [],
   "source": [
    "graph10 = graph10.iloc[:40]"
   ]
  },
  {
   "cell_type": "code",
   "execution_count": 79,
   "id": "c919836c-1edc-4b88-9804-d47c3dd37813",
   "metadata": {},
   "outputs": [
    {
     "data": {
      "text/html": [
       "<div>\n",
       "<style scoped>\n",
       "    .dataframe tbody tr th:only-of-type {\n",
       "        vertical-align: middle;\n",
       "    }\n",
       "\n",
       "    .dataframe tbody tr th {\n",
       "        vertical-align: top;\n",
       "    }\n",
       "\n",
       "    .dataframe thead th {\n",
       "        text-align: right;\n",
       "    }\n",
       "</style>\n",
       "<table border=\"1\" class=\"dataframe\">\n",
       "  <thead>\n",
       "    <tr style=\"text-align: right;\">\n",
       "      <th></th>\n",
       "      <th>user_id</th>\n",
       "      <th>vote</th>\n",
       "    </tr>\n",
       "    <tr>\n",
       "      <th>anime</th>\n",
       "      <th></th>\n",
       "      <th></th>\n",
       "    </tr>\n",
       "  </thead>\n",
       "  <tbody>\n",
       "    <tr>\n",
       "      <th>8353.0</th>\n",
       "      <td>30371</td>\n",
       "      <td>30371</td>\n",
       "    </tr>\n",
       "    <tr>\n",
       "      <th>30743.0</th>\n",
       "      <td>19890</td>\n",
       "      <td>19890</td>\n",
       "    </tr>\n",
       "    <tr>\n",
       "      <th>15227.0</th>\n",
       "      <td>15524</td>\n",
       "      <td>15524</td>\n",
       "    </tr>\n",
       "    <tr>\n",
       "      <th>22593.0</th>\n",
       "      <td>10007</td>\n",
       "      <td>10007</td>\n",
       "    </tr>\n",
       "    <tr>\n",
       "      <th>29757.0</th>\n",
       "      <td>5230</td>\n",
       "      <td>5230</td>\n",
       "    </tr>\n",
       "  </tbody>\n",
       "</table>\n",
       "</div>"
      ],
      "text/plain": [
       "         user_id   vote\n",
       "anime                  \n",
       "8353.0     30371  30371\n",
       "30743.0    19890  19890\n",
       "15227.0    15524  15524\n",
       "22593.0    10007  10007\n",
       "29757.0     5230   5230"
      ]
     },
     "execution_count": 79,
     "metadata": {},
     "output_type": "execute_result"
    }
   ],
   "source": [
    "graph10.head()"
   ]
  },
  {
   "cell_type": "code",
   "execution_count": 80,
   "id": "36269136-b26c-4200-80e3-c41552031118",
   "metadata": {},
   "outputs": [],
   "source": [
    "graph10.reset_index(inplace=True)"
   ]
  },
  {
   "cell_type": "code",
   "execution_count": 81,
   "id": "f0cd8c64-cf88-44b9-8f41-eef4ca19a747",
   "metadata": {},
   "outputs": [
    {
     "name": "stderr",
     "output_type": "stream",
     "text": [
      "C:\\Users\\Tomasz\\AppData\\Local\\Temp\\ipykernel_1724\\2595057736.py:2: UserWarning: set_ticklabels() should only be used with a fixed number of ticks, i.e. after set_ticks() or using a FixedLocator.\n",
      "  g10.set_xticklabels(graph10['anime'], rotation=90)\n"
     ]
    },
    {
     "data": {
      "text/plain": [
       "[Text(0.5, 0, 'anime_id'), Text(0, 0.5, 'liczba rekomendacji ALS')]"
      ]
     },
     "execution_count": 81,
     "metadata": {},
     "output_type": "execute_result"
    },
    {
     "data": {
      "image/png": "[encoded data removed]",
      "text/plain": [
       "<Figure size 640x480 with 1 Axes>"
      ]
     },
     "metadata": {},
     "output_type": "display_data"
    }
   ],
   "source": [
    "g10 = sns.barplot(graph10, x=graph10.index, y='vote')\n",
    "g10.set_xticklabels(graph10['anime'], rotation=90)\n",
    "g10.set(xlabel='anime_id', ylabel='liczba rekomendacji ALS')"
   ]
  },
  {
   "cell_type": "code",
   "execution_count": 69,
   "id": "be3fedfb-779f-429b-9d99-018b1c56571d",
   "metadata": {},
   "outputs": [
    {
     "data": {
      "text/html": [
       "<div>\n",
       "<style scoped>\n",
       "    .dataframe tbody tr th:only-of-type {\n",
       "        vertical-align: middle;\n",
       "    }\n",
       "\n",
       "    .dataframe tbody tr th {\n",
       "        vertical-align: top;\n",
       "    }\n",
       "\n",
       "    .dataframe thead th {\n",
       "        text-align: right;\n",
       "    }\n",
       "</style>\n",
       "<table border=\"1\" class=\"dataframe\">\n",
       "  <thead>\n",
       "    <tr style=\"text-align: right;\">\n",
       "      <th></th>\n",
       "      <th>user_id</th>\n",
       "      <th>anime</th>\n",
       "      <th>vote</th>\n",
       "    </tr>\n",
       "  </thead>\n",
       "  <tbody>\n",
       "    <tr>\n",
       "      <th>36753</th>\n",
       "      <td>11251.0</td>\n",
       "      <td>11867.0</td>\n",
       "      <td>25.878250</td>\n",
       "    </tr>\n",
       "    <tr>\n",
       "      <th>13385</th>\n",
       "      <td>57453.0</td>\n",
       "      <td>30531.0</td>\n",
       "      <td>25.473480</td>\n",
       "    </tr>\n",
       "    <tr>\n",
       "      <th>29327</th>\n",
       "      <td>52963.0</td>\n",
       "      <td>3481.0</td>\n",
       "      <td>24.589502</td>\n",
       "    </tr>\n",
       "    <tr>\n",
       "      <th>82231</th>\n",
       "      <td>57453.0</td>\n",
       "      <td>23043.0</td>\n",
       "      <td>24.581934</td>\n",
       "    </tr>\n",
       "    <tr>\n",
       "      <th>32774</th>\n",
       "      <td>67760.0</td>\n",
       "      <td>29949.0</td>\n",
       "      <td>24.566105</td>\n",
       "    </tr>\n",
       "    <tr>\n",
       "      <th>...</th>\n",
       "      <td>...</td>\n",
       "      <td>...</td>\n",
       "      <td>...</td>\n",
       "    </tr>\n",
       "    <tr>\n",
       "      <th>196009</th>\n",
       "      <td>29286.0</td>\n",
       "      <td>20929.0</td>\n",
       "      <td>0.779892</td>\n",
       "    </tr>\n",
       "    <tr>\n",
       "      <th>124046</th>\n",
       "      <td>16392.0</td>\n",
       "      <td>5391.0</td>\n",
       "      <td>0.698184</td>\n",
       "    </tr>\n",
       "    <tr>\n",
       "      <th>128098</th>\n",
       "      <td>33173.0</td>\n",
       "      <td>5391.0</td>\n",
       "      <td>0.698184</td>\n",
       "    </tr>\n",
       "    <tr>\n",
       "      <th>192892</th>\n",
       "      <td>16392.0</td>\n",
       "      <td>4866.0</td>\n",
       "      <td>0.697208</td>\n",
       "    </tr>\n",
       "    <tr>\n",
       "      <th>196944</th>\n",
       "      <td>33173.0</td>\n",
       "      <td>4866.0</td>\n",
       "      <td>0.697208</td>\n",
       "    </tr>\n",
       "  </tbody>\n",
       "</table>\n",
       "<p>206538 rows × 3 columns</p>\n",
       "</div>"
      ],
      "text/plain": [
       "        user_id    anime       vote\n",
       "36753   11251.0  11867.0  25.878250\n",
       "13385   57453.0  30531.0  25.473480\n",
       "29327   52963.0   3481.0  24.589502\n",
       "82231   57453.0  23043.0  24.581934\n",
       "32774   67760.0  29949.0  24.566105\n",
       "...         ...      ...        ...\n",
       "196009  29286.0  20929.0   0.779892\n",
       "124046  16392.0   5391.0   0.698184\n",
       "128098  33173.0   5391.0   0.698184\n",
       "192892  16392.0   4866.0   0.697208\n",
       "196944  33173.0   4866.0   0.697208\n",
       "\n",
       "[206538 rows x 3 columns]"
      ]
     },
     "execution_count": 69,
     "metadata": {},
     "output_type": "execute_result"
    }
   ],
   "source": [
    "dfs_pandas.sort_values(by='vote', ascending=False)"
   ]
  },
  {
   "cell_type": "code",
   "execution_count": 82,
   "id": "7e925bb6-75e0-4d05-b7c1-4fe4e622e87e",
   "metadata": {},
   "outputs": [],
   "source": [
    "graph11 = dfs_pandas.sort_values(by='vote', ascending=False)"
   ]
  },
  {
   "cell_type": "code",
   "execution_count": 83,
   "id": "c764b332-77df-4494-9885-959b582f9aff",
   "metadata": {},
   "outputs": [],
   "source": [
    "graph11 = graph11.iloc[:40]"
   ]
  },
  {
   "cell_type": "code",
   "execution_count": 84,
   "id": "db98d314-1ef2-4167-b3ab-fcf71f5038e5",
   "metadata": {},
   "outputs": [],
   "source": [
    "graph11.reset_index(inplace=True)"
   ]
  },
  {
   "cell_type": "code",
   "execution_count": 77,
   "id": "e1f220ac-760f-47b5-a634-e403377817d9",
   "metadata": {},
   "outputs": [
    {
     "data": {
      "text/html": [
       "<div>\n",
       "<style scoped>\n",
       "    .dataframe tbody tr th:only-of-type {\n",
       "        vertical-align: middle;\n",
       "    }\n",
       "\n",
       "    .dataframe tbody tr th {\n",
       "        vertical-align: top;\n",
       "    }\n",
       "\n",
       "    .dataframe thead th {\n",
       "        text-align: right;\n",
       "    }\n",
       "</style>\n",
       "<table border=\"1\" class=\"dataframe\">\n",
       "  <thead>\n",
       "    <tr style=\"text-align: right;\">\n",
       "      <th></th>\n",
       "      <th>index</th>\n",
       "      <th>user_id</th>\n",
       "      <th>anime</th>\n",
       "      <th>vote</th>\n",
       "    </tr>\n",
       "  </thead>\n",
       "  <tbody>\n",
       "    <tr>\n",
       "      <th>0</th>\n",
       "      <td>36753</td>\n",
       "      <td>11251.0</td>\n",
       "      <td>11867.0</td>\n",
       "      <td>25.878250</td>\n",
       "    </tr>\n",
       "    <tr>\n",
       "      <th>1</th>\n",
       "      <td>13385</td>\n",
       "      <td>57453.0</td>\n",
       "      <td>30531.0</td>\n",
       "      <td>25.473480</td>\n",
       "    </tr>\n",
       "    <tr>\n",
       "      <th>2</th>\n",
       "      <td>29327</td>\n",
       "      <td>52963.0</td>\n",
       "      <td>3481.0</td>\n",
       "      <td>24.589502</td>\n",
       "    </tr>\n",
       "    <tr>\n",
       "      <th>3</th>\n",
       "      <td>82231</td>\n",
       "      <td>57453.0</td>\n",
       "      <td>23043.0</td>\n",
       "      <td>24.581934</td>\n",
       "    </tr>\n",
       "    <tr>\n",
       "      <th>4</th>\n",
       "      <td>32774</td>\n",
       "      <td>67760.0</td>\n",
       "      <td>29949.0</td>\n",
       "      <td>24.566105</td>\n",
       "    </tr>\n",
       "  </tbody>\n",
       "</table>\n",
       "</div>"
      ],
      "text/plain": [
       "   index  user_id    anime       vote\n",
       "0  36753  11251.0  11867.0  25.878250\n",
       "1  13385  57453.0  30531.0  25.473480\n",
       "2  29327  52963.0   3481.0  24.589502\n",
       "3  82231  57453.0  23043.0  24.581934\n",
       "4  32774  67760.0  29949.0  24.566105"
      ]
     },
     "execution_count": 77,
     "metadata": {},
     "output_type": "execute_result"
    }
   ],
   "source": [
    "graph11.head()"
   ]
  },
  {
   "cell_type": "code",
   "execution_count": 85,
   "id": "d3594eab-35c7-4bb9-ba6c-f284d8337c18",
   "metadata": {},
   "outputs": [
    {
     "name": "stderr",
     "output_type": "stream",
     "text": [
      "C:\\Users\\Tomasz\\AppData\\Local\\Temp\\ipykernel_1724\\890670629.py:2: UserWarning: set_ticklabels() should only be used with a fixed number of ticks, i.e. after set_ticks() or using a FixedLocator.\n",
      "  g11.set_xticklabels(graph11['anime'], rotation=90)\n"
     ]
    },
    {
     "data": {
      "text/plain": [
       "[Text(0.5, 0, 'anime_id'), Text(0, 0.5, 'wartość rekomendacji ALS')]"
      ]
     },
     "execution_count": 85,
     "metadata": {},
     "output_type": "execute_result"
    },
    {
     "data": {
      "image/png": "[encoded data removed]",
      "text/plain": [
       "<Figure size 640x480 with 1 Axes>"
      ]
     },
     "metadata": {},
     "output_type": "display_data"
    }
   ],
   "source": [
    "g11 = sns.barplot(graph11, x=graph11.index, y='vote')\n",
    "g11.set_xticklabels(graph11['anime'], rotation=90)\n",
    "g11.set(xlabel='anime_id', ylabel='wartość rekomendacji ALS')"
   ]
  },
  {
   "cell_type": "code",
   "execution_count": 87,
   "id": "73d6007f-5f81-4c6a-83af-7576b7c7ee4a",
   "metadata": {},
   "outputs": [],
   "source": [
    "anime1 = dfs_pandas[dfs_pandas['anime']==11867]"
   ]
  },
  {
   "cell_type": "code",
   "execution_count": 88,
   "id": "45880ce6-1791-4202-828f-d14306013824",
   "metadata": {},
   "outputs": [],
   "source": [
    "anime2 = dfs_pandas[dfs_pandas['anime']==30531]"
   ]
  },
  {
   "cell_type": "code",
   "execution_count": 89,
   "id": "614f8066-c65a-491c-a686-50b68f34ca45",
   "metadata": {},
   "outputs": [],
   "source": [
    "anime3 = dfs_pandas[dfs_pandas['anime']==3481]"
   ]
  },
  {
   "cell_type": "code",
   "execution_count": 90,
   "id": "681eb1d4-634d-45b8-93db-9cf3515a3dc7",
   "metadata": {},
   "outputs": [],
   "source": [
    "graph12 = pd.concat([anime1, anime2, anime3])"
   ]
  },
  {
   "cell_type": "code",
   "execution_count": 95,
   "id": "e4d7c89b-d596-44cb-a8b8-faadab853e68",
   "metadata": {},
   "outputs": [
    {
     "data": {
      "text/html": [
       "<div>\n",
       "<style scoped>\n",
       "    .dataframe tbody tr th:only-of-type {\n",
       "        vertical-align: middle;\n",
       "    }\n",
       "\n",
       "    .dataframe tbody tr th {\n",
       "        vertical-align: top;\n",
       "    }\n",
       "\n",
       "    .dataframe thead th {\n",
       "        text-align: right;\n",
       "    }\n",
       "</style>\n",
       "<table border=\"1\" class=\"dataframe\">\n",
       "  <thead>\n",
       "    <tr style=\"text-align: right;\">\n",
       "      <th></th>\n",
       "      <th>user_id</th>\n",
       "      <th>anime</th>\n",
       "      <th>vote</th>\n",
       "    </tr>\n",
       "  </thead>\n",
       "  <tbody>\n",
       "    <tr>\n",
       "      <th>44</th>\n",
       "      <td>209.0</td>\n",
       "      <td>11867.0</td>\n",
       "      <td>11.338144</td>\n",
       "    </tr>\n",
       "    <tr>\n",
       "      <th>48</th>\n",
       "      <td>218.0</td>\n",
       "      <td>11867.0</td>\n",
       "      <td>12.099032</td>\n",
       "    </tr>\n",
       "    <tr>\n",
       "      <th>152</th>\n",
       "      <td>674.0</td>\n",
       "      <td>11867.0</td>\n",
       "      <td>11.615440</td>\n",
       "    </tr>\n",
       "    <tr>\n",
       "      <th>213</th>\n",
       "      <td>896.0</td>\n",
       "      <td>11867.0</td>\n",
       "      <td>11.255095</td>\n",
       "    </tr>\n",
       "    <tr>\n",
       "      <th>279</th>\n",
       "      <td>1199.0</td>\n",
       "      <td>11867.0</td>\n",
       "      <td>13.701178</td>\n",
       "    </tr>\n",
       "  </tbody>\n",
       "</table>\n",
       "</div>"
      ],
      "text/plain": [
       "     user_id    anime       vote\n",
       "44     209.0  11867.0  11.338144\n",
       "48     218.0  11867.0  12.099032\n",
       "152    674.0  11867.0  11.615440\n",
       "213    896.0  11867.0  11.255095\n",
       "279   1199.0  11867.0  13.701178"
      ]
     },
     "execution_count": 95,
     "metadata": {},
     "output_type": "execute_result"
    }
   ],
   "source": [
    "graph12.head()"
   ]
  },
  {
   "cell_type": "code",
   "execution_count": 91,
   "id": "74450e6b-ceb7-4b65-b067-7321bcd56aab",
   "metadata": {},
   "outputs": [
    {
     "data": {
      "text/plain": [
       "<Axes: xlabel='vote', ylabel='Count'>"
      ]
     },
     "execution_count": 91,
     "metadata": {},
     "output_type": "execute_result"
    },
    {
     "data": {
      "image/png": "[encoded data removed]",
      "text/plain": [
       "<Figure size 640x480 with 1 Axes>"
      ]
     },
     "metadata": {},
     "output_type": "display_data"
    }
   ],
   "source": [
    "sns.histplot(data=graph12, x='vote', hue='anime')"
   ]
  },
  {
   "cell_type": "code",
   "execution_count": 93,
   "id": "e5ec60db-10c1-4815-bb1a-130e3d9d8d01",
   "metadata": {},
   "outputs": [
    {
     "data": {
      "text/plain": [
       "[Text(0, 0.5, 'Liczba rekomendacji ALS'), Text(0.5, 0, 'Szacowany głos')]"
      ]
     },
     "execution_count": 93,
     "metadata": {},
     "output_type": "execute_result"
    },
    {
     "data": {
      "image/png": "[encoded data removed]",
      "text/plain": [
       "<Figure size 640x480 with 1 Axes>"
      ]
     },
     "metadata": {},
     "output_type": "display_data"
    }
   ],
   "source": [
    "gn = sns.histplot(data=dfs_pandas, x='vote')\n",
    "gn.set(ylabel='Liczba rekomendacji ALS', xlabel='Szacowany głos')"
   ]
  },
  {
   "cell_type": "code",
   "execution_count": 99,
   "id": "c33b226a-1c35-4e43-80e3-77a8264eb8a4",
   "metadata": {},
   "outputs": [
    {
     "data": {
      "text/plain": [
       "10.885897621549496"
      ]
     },
     "execution_count": 99,
     "metadata": {},
     "output_type": "execute_result"
    }
   ],
   "source": [
    "dfs_pandas['vote'].mean()"
   ]
  },
  {
   "cell_type": "code",
   "execution_count": 103,
   "id": "de1fc747-925f-45d5-8725-8f22ab35a121",
   "metadata": {},
   "outputs": [
    {
     "data": {
      "text/plain": [
       "1.2511651577406733"
      ]
     },
     "execution_count": 103,
     "metadata": {},
     "output_type": "execute_result"
    }
   ],
   "source": [
    "dfs_pandas['vote'].std()"
   ]
  },
  {
   "cell_type": "code",
   "execution_count": 102,
   "id": "da494191-b9d4-44ec-be33-e86e6f6e1713",
   "metadata": {},
   "outputs": [
    {
     "data": {
      "text/html": [
       "<div>\n",
       "<style scoped>\n",
       "    .dataframe tbody tr th:only-of-type {\n",
       "        vertical-align: middle;\n",
       "    }\n",
       "\n",
       "    .dataframe tbody tr th {\n",
       "        vertical-align: top;\n",
       "    }\n",
       "\n",
       "    .dataframe thead th {\n",
       "        text-align: right;\n",
       "    }\n",
       "</style>\n",
       "<table border=\"1\" class=\"dataframe\">\n",
       "  <thead>\n",
       "    <tr style=\"text-align: right;\">\n",
       "      <th></th>\n",
       "      <th>user_id</th>\n",
       "      <th>anime</th>\n",
       "      <th>vote</th>\n",
       "    </tr>\n",
       "  </thead>\n",
       "  <tbody>\n",
       "    <tr>\n",
       "      <th>15346</th>\n",
       "      <td>66021.0</td>\n",
       "      <td>4536.0</td>\n",
       "      <td>13.734740</td>\n",
       "    </tr>\n",
       "    <tr>\n",
       "      <th>84192</th>\n",
       "      <td>66021.0</td>\n",
       "      <td>9053.0</td>\n",
       "      <td>13.639961</td>\n",
       "    </tr>\n",
       "    <tr>\n",
       "      <th>153038</th>\n",
       "      <td>66021.0</td>\n",
       "      <td>2651.0</td>\n",
       "      <td>13.473597</td>\n",
       "    </tr>\n",
       "  </tbody>\n",
       "</table>\n",
       "</div>"
      ],
      "text/plain": [
       "        user_id   anime       vote\n",
       "15346   66021.0  4536.0  13.734740\n",
       "84192   66021.0  9053.0  13.639961\n",
       "153038  66021.0  2651.0  13.473597"
      ]
     },
     "execution_count": 102,
     "metadata": {},
     "output_type": "execute_result"
    }
   ],
   "source": [
    "dfs_pandas[dfs_pandas['user_id']==66021]"
   ]
  },
  {
   "cell_type": "code",
   "execution_count": 104,
   "id": "752730bd-8263-4a7c-8b72-8ac6354af442",
   "metadata": {},
   "outputs": [
    {
     "name": "stdout",
     "output_type": "stream",
     "text": [
      "<class 'pandas.core.frame.DataFrame'>\n",
      "Index: 206538 entries, 0 to 206537\n",
      "Data columns (total 3 columns):\n",
      " #   Column   Non-Null Count   Dtype  \n",
      "---  ------   --------------   -----  \n",
      " 0   user_id  206538 non-null  float64\n",
      " 1   anime    206538 non-null  float64\n",
      " 2   vote     206538 non-null  float64\n",
      "dtypes: float64(3)\n",
      "memory usage: 14.4 MB\n"
     ]
    }
   ],
   "source": [
    "dfs_pandas.info()"
   ]
  },
  {
   "cell_type": "code",
   "execution_count": null,
   "id": "5589c0d1-7570-4bad-914d-13ba091c7bbe",
   "metadata": {},
   "outputs": [],
   "source": []
  }
 ],
 "metadata": {
  "kernelspec": {
   "display_name": "Python [conda env:base] *",
   "language": "python",
   "name": "conda-base-py"
  },
  "language_info": {
   "codemirror_mode": {
    "name": "ipython",
    "version": 3
   },
   "file_extension": ".py",
   "mimetype": "text/x-python",
   "name": "python",
   "nbconvert_exporter": "python",
   "pygments_lexer": "ipython3",
   "version": "3.11.11"
  }
 },
 "nbformat": 4,
 "nbformat_minor": 5
}
